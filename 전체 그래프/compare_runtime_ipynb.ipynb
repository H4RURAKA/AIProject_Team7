{
  "nbformat": 4,
  "nbformat_minor": 0,
  "metadata": {
    "colab": {
      "provenance": [],
      "gpuType": "T4"
    },
    "kernelspec": {
      "name": "python3",
      "display_name": "Python 3"
    },
    "language_info": {
      "name": "python"
    },
    "accelerator": "GPU"
  },
  "cells": [
    {
      "cell_type": "code",
      "execution_count": 2,
      "metadata": {
        "colab": {
          "base_uri": "https://localhost:8080/"
        },
        "id": "vqg7HtXkuS7T",
        "outputId": "b7e45b0d-c4ae-459f-a315-21e30120ff5c"
      },
      "outputs": [
        {
          "name": "stdout",
          "output_type": "stream",
          "text": [
            "start token: 26515\n",
            "end token: 85718\n"
          ]
        },
        {
          "output_type": "stream",
          "name": "stderr",
          "text": [
            "/usr/local/lib/python3.11/dist-packages/torch/nn/modules/transformer.py:508: UserWarning: The PyTorch API of nested tensors is in prototype stage and will change in the near future. We recommend specifying layout=torch.jagged when constructing a nested tensor, as this layout receives active development, has better operator coverage, and works with torch.compile. (Triggered internally at /pytorch/aten/src/ATen/NestedTensorImpl.cpp:178.)\n",
            "  output = torch._nested_tensor_from_mask(\n"
          ]
        },
        {
          "output_type": "stream",
          "name": "stdout",
          "text": [
            "\n",
            "=== Transformer Result ===\n",
            "Tokens: ['D=5', 'TYPE=Corridor', 'TURN_RIGHT', 'D=10', 'TYPE=Corridor', 'TURN_LEFT', 'D=85', 'TYPE=Corridor', 'TURN_RIGHT', 'D=5', 'TYPE=Elevator', 'D=0', 'TYPE=Elevator', 'D=0', 'TYPE=Elevator', 'D=0', 'TYPE=Elevator', 'D=0', 'TYPE=Elevator', 'D=5', 'TYPE=Corridor', 'TURN_RIGHT', 'D=15', 'TYPE=Corridor', 'TURN_LEFT', 'D=25', 'TYPE=Corridor', 'TURN_RIGHT', 'D=5', 'TYPE=Door', 'D=10', 'TYPE=Outside', 'D=25', 'TYPE=Outside', 'D=10', 'TYPE=Door', 'D=10', 'TYPE=Corridor', 'TURN_LEFT', 'D=5', 'TYPE=Corridor', 'TURN_RIGHT', 'D=5', 'TYPE=Stair', 'D=5', 'TYPE=Stair', 'D=5', 'TYPE=Stair', 'D=5', 'TYPE=Corridor', 'TURN_LEFT', 'D=50', 'TYPE=Corridor', 'TURN_LEFT', 'D=5', 'TYPE=Corridor', 'TURN_LEFT', 'D=5', 'TYPE=Elevator', 'D=0', 'TYPE=Elevator', 'D=0', 'TYPE=Elevator', 'D=0', 'TYPE=Elevator', 'D=0', 'TYPE=Elevator', 'D=5', 'TYPE=Corridor', 'TURN_LEFT', 'D=10', 'TYPE=Corridor', 'TURN_RIGHT', 'D=5', 'TYPE=Corridor', 'TURN_LEFT', 'D=10', 'TYPE=Corridor', 'TURN_LEFT', 'D=0', 'TYPE=Room', 'END']\n",
            "Transformer elapsed: 3924.49 ms\n",
            "\n",
            "=== Dijkstra Result ===\n",
            "(id: 제2공학관_5f_34, name: 26515, type: Room) -> 2.74m ->  (id: 제2공학관_5f_122, name: Node122, type: Corridor)  <92도 우회전> -> 12.25m ->  (id: 제2공학관_5f_120, name: Node120, type: Corridor)  <89도 좌회전> -> 86.53m ->  (id: 제2공학관_5f_101, name: Node101, type: Corridor)  <88도 우회전> -> 2.80m ->  (id: 제2공학관_5f_92, name: elevator1_5f, type: Elevator) ->  (id: 제2공학관_4f_99, name: elevator1_4f, type: Elevator) ->  (id: 제2공학관_3f_192, name: elevator1_3f, type: Elevator) ->  (id: 제2공학관_2f_192, name: elevator1_2f, type: Elevator) ->  (id: 제2공학관_1f_90, name: elevator1_1f, type: Elevator) -> 2.87m ->  (id: 제2공학관_1f_100, name: Node100, type: Corridor)  <87도 우회전> -> 13.57m ->  (id: 제2공학관_1f_98, name: Node98, type: Corridor)  <90도 좌회전> -> 24.98m ->  (id: 제2공학관_1f_97, name: Node97, type: Corridor)  <91도 우회전> -> 4.63m ->  (id: 제2공학관_1f_91, name: door1, type: Door)  <0도 우회전> -> 8.15m ->  (id: 제2공학관_1f_159, name: road1, type: Outside) -> 25.00m ->  (id: 산학협력관_1f_46, name: road2, type: Outside) -> 7.62m ->  (id: 산학협력관_1f_42, name: Node42, type: Door)  <5도 우회전> -> 10.13m ->  (id: 산학협력관_1f_73, name: Node73, type: Corridor)  <96도 좌회전> -> 2.79m ->  (id: 산학협력관_1f_72, name: Node72, type: Corridor)  <87도 우회전> -> 3.24m ->  (id: 산학협력관_1f_36, name: stair4_1f, type: Stair) ->  (id: 산학협력관_2f_63, name: stair4_2f, type: Stair) ->  (id: 산학협력관_3f_69, name: stair4_3f, type: Stair) -> 3.27m ->  (id: 산학협력관_3f_53, name: Node53, type: Corridor)  <87도 좌회전> -> 47.88m ->  (id: 산학협력관_3f_45, name: Node45, type: Corridor)  <78도 좌회전> -> 4.83m ->  (id: 산학협력관_3f_46, name: Node46, type: Corridor)  <104도 좌회전> -> 3.95m ->  (id: 산학협력관_3f_70, name: elevator1_3f, type: Elevator) ->  (id: 산학협력관_4f_84, name: elevator1_4f, type: Elevator) ->  (id: 산학협력관_5f_88, name: elevator1_5f, type: Elevator) ->  (id: 산학협력관_6f_81, name: elevator1_6f, type: Elevator) ->  (id: 산학협력관_7f_80, name: elevator1_7f, type: Elevator) -> 6.08m ->  (id: 산학협력관_7f_48, name: Node48, type: Corridor)  <93도 좌회전> -> 8.68m ->  (id: 산학협력관_7f_46, name: Node46, type: Corridor)  <97도 우회전> -> 4.96m ->  (id: 산학협력관_7f_44, name: Node44, type: Corridor)  <94도 좌회전> -> 7.99m ->  (id: 산학협력관_7f_43, name: Node43, type: Corridor)  <90도 좌회전> -> 2.30m ->  (id: 산학협력관_7f_6, name: 85718, type: Room)\n",
            "Dijkstra elapsed: 2.71 ms\n"
          ]
        }
      ],
      "source": [
        "# compare_runtime.py\n",
        "\n",
        "import time, sys, json\n",
        "from transformer_pathfinder import infer_sequence\n",
        "from pathfinder import shortest_path, format_path\n",
        "\n",
        "# 1) 토큰→그래프ID 매핑 불러오기\n",
        "with open('token_to_graphid.json', 'r', encoding='utf-8') as f:\n",
        "    token2graph = json.load(f)\n",
        "\n",
        "def main():\n",
        "    start_tok = input(\"start token: \").strip()\n",
        "    end_tok   = input(\"end token: \").strip()\n",
        "\n",
        "    # 2) Transformer 실행 및 시간 측정\n",
        "    t0 = time.time()\n",
        "    try:\n",
        "        toks = infer_sequence(start_tok, end_tok)\n",
        "    except ValueError as e:\n",
        "        print(f\"Transformer Error: {e}\")\n",
        "        sys.exit(1)\n",
        "    t1 = time.time()\n",
        "    print(\"\\n=== Transformer Result ===\")\n",
        "    print(\"Tokens:\", toks)\n",
        "    print(f\"Transformer elapsed: {(t1-t0)*1000:.2f} ms\")\n",
        "\n",
        "    # 3) 토큰을 그래프 ID 로 변환\n",
        "    if start_tok not in token2graph or end_tok not in token2graph:\n",
        "        print(\"Error: token_to_graphid.json 에 매핑 정보가 없습니다.\")\n",
        "        sys.exit(1)\n",
        "    start_graph = token2graph[start_tok]\n",
        "    end_graph   = token2graph[end_tok]\n",
        "\n",
        "    # 4) Dijkstra 실행 및 시간 측정\n",
        "    t2 = time.time()\n",
        "    path = shortest_path(start_graph, end_graph)\n",
        "    t3 = time.time()\n",
        "\n",
        "    if not path:\n",
        "        print(\"\\n=== Dijkstra Result ===\")\n",
        "        print(f\"No path found between {start_graph} and {end_graph}\")\n",
        "    else:\n",
        "        formatted = format_path(path)\n",
        "        print(\"\\n=== Dijkstra Result ===\")\n",
        "        print(formatted)\n",
        "\n",
        "    print(f\"Dijkstra elapsed: {(t3-t2)*1000:.2f} ms\")\n",
        "\n",
        "if __name__ == '__main__':\n",
        "    main()\n"
      ]
    }
  ]
}