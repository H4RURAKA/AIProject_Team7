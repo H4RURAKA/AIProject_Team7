{
  "nbformat": 4,
  "nbformat_minor": 0,
  "metadata": {
    "colab": {
      "provenance": [],
      "gpuType": "T4"
    },
    "kernelspec": {
      "name": "python3",
      "display_name": "Python 3"
    },
    "language_info": {
      "name": "python"
    },
    "accelerator": "GPU"
  },
  "cells": [
    {
      "cell_type": "code",
      "source": [
        "#================================================================================\n",
        "# 1) Colab 셀 1: 필수 라이브러리 설치 / 불러오기\n",
        "#================================================================================\n",
        "import os\n",
        "import random\n",
        "import math\n",
        "from tqdm import tqdm\n",
        "\n",
        "import torch\n",
        "import torch.nn as nn\n",
        "from torch.utils.data import Dataset, DataLoader, random_split\n",
        "\n",
        "# GPU 사용 여부 확인\n",
        "device = torch.device('cuda' if torch.cuda.is_available() else 'cpu')\n",
        "print(\"Using device:\", device)"
      ],
      "metadata": {
        "colab": {
          "base_uri": "https://localhost:8080/"
        },
        "id": "d1M6c1WvNGbe",
        "outputId": "ff0c67b7-f1bc-4d77-bb67-e23f8c28e6ec"
      },
      "execution_count": 11,
      "outputs": [
        {
          "output_type": "stream",
          "name": "stdout",
          "text": [
            "Using device: cuda\n"
          ]
        }
      ]
    },
    {
      "cell_type": "code",
      "source": [
        "#================================================================================\n",
        "# 2) Colab 셀 2: 데이터셋 클래스 정의\n",
        "#================================================================================\n",
        "class MazeSeqDataset(Dataset):\n",
        "    \"\"\"\n",
        "    training_data.txt 한 줄씩을 읽어서\n",
        "    - 입력 (input): [ start_node_id, end_node_id ]  (토큰 인덱스 리스트)\n",
        "    - 출력 (target): [ D=5, TYPE=Corridor, TURN_RIGHT, ..., END ]  (토큰 인덱스 리스트)\n",
        "    \"\"\"\n",
        "    def __init__(self, data_path, token2idx=None, build_vocab=False):\n",
        "        \"\"\"\n",
        "        data_path: 학습 데이터 파일 경로 (training_data.txt)\n",
        "        token2idx: 이미 만들어진 토큰 사전 (input/output 공용)\n",
        "        build_vocab: True이면 파일을 전체 스캔하여 토큰 사전 생성\n",
        "        \"\"\"\n",
        "        self.pairs = []    # (input_tokens, output_tokens)\n",
        "        self.token2idx = token2idx or {}\n",
        "        self.build_vocab = build_vocab\n",
        "\n",
        "        # 토큰을 모을 때 사용되는 임시 집합\n",
        "        self._all_tokens = set()\n",
        "\n",
        "        # 1) raw_data 읽기\n",
        "        with open(data_path, 'r', encoding='utf-8') as f:\n",
        "            lines = [ line.strip() for line in f if line.strip() ]\n",
        "\n",
        "        # 2) 각 줄 파싱\n",
        "        for line in tqdm(lines, desc=\"Parsing data\"):\n",
        "            # 예시: \"1f_1 1f_2 | D=5 TYPE=Corridor TURN_RIGHT D=5 TYPE=Room END\"\n",
        "            sp = line.split('|')\n",
        "            lhs = sp[0].strip()\n",
        "            rhs = sp[1].strip()\n",
        "            start_id, end_id = lhs.split()\n",
        "\n",
        "            input_tokens = [start_id, end_id]\n",
        "            output_tokens = rhs.split()\n",
        "\n",
        "            # build_vocab=True 이면 토큰 집합에 추가\n",
        "            if self.build_vocab:\n",
        "                for tok in input_tokens:\n",
        "                    self._all_tokens.add(tok)\n",
        "                for tok in output_tokens:\n",
        "                    self._all_tokens.add(tok)\n",
        "\n",
        "            self.pairs.append((input_tokens, output_tokens))\n",
        "\n",
        "        # 3) vocab 생성 (build_vocab=True 일 때만)\n",
        "        if self.build_vocab:\n",
        "            # special tokens\n",
        "            specials = ['<PAD>', '<SOS>', '<EOS>']\n",
        "            idx = 0\n",
        "            for sp_tok in specials:\n",
        "                self.token2idx[sp_tok] = idx\n",
        "                idx += 1\n",
        "            # 나머지 토큰\n",
        "            for tok in sorted(self._all_tokens):\n",
        "                if tok not in self.token2idx:\n",
        "                    self.token2idx[tok] = idx\n",
        "                    idx += 1\n",
        "            print(f\"Vocab size: {len(self.token2idx)}\")\n",
        "\n",
        "        # 4) token2idx이 없으면 에러\n",
        "        if not self.token2idx:\n",
        "            raise ValueError(\"token2idx is empty. Pass build_vocab=True at least once.\")\n",
        "\n",
        "        # 5) input/output 인덱스 변환 (idx2token 출력이 필요하면 추후 만들어도 됨)\n",
        "        self.data = []\n",
        "        for (ins, outs) in self.pairs:\n",
        "            # 입력: <SOS> start end <EOS>\n",
        "            in_idx = [ self.token2idx['<SOS>'] ]\n",
        "            in_idx += [ self.token2idx[t] for t in ins ]\n",
        "            in_idx += [ self.token2idx['<EOS>'] ]\n",
        "            # 출력: <SOS> tok1 tok2 ... tokN <EOS>\n",
        "            out_idx = [ self.token2idx['<SOS>'] ]\n",
        "            out_idx += [ self.token2idx[t] for t in outs ]\n",
        "            out_idx += [ self.token2idx['<EOS>'] ]\n",
        "            self.data.append( (in_idx, out_idx) )\n",
        "\n",
        "    def __len__(self):\n",
        "        return len(self.data)\n",
        "\n",
        "    def __getitem__(self, idx):\n",
        "        return self.data[idx]\n",
        "\n",
        "    @staticmethod\n",
        "    def collate_fn(batch):\n",
        "        \"\"\"\n",
        "        batch: [(in_idx_list, out_idx_list), …]\n",
        "        -> 입력, 출력 패딩 처리하여 Tensor(batch_size, max_len)로 반환\n",
        "        \"\"\"\n",
        "        in_seqs, out_seqs = zip(*batch)\n",
        "        in_lens = [len(s) for s in in_seqs]\n",
        "        out_lens = [len(s) for s in out_seqs]\n",
        "\n",
        "        max_in = max(in_lens)\n",
        "        max_out = max(out_lens)\n",
        "\n",
        "        PAD = 0  # '<PAD>' 토큰 인덱스가 0이라고 가정\n",
        "\n",
        "        in_batch = []\n",
        "        for s in in_seqs:\n",
        "            padded = s + [PAD] * (max_in - len(s))\n",
        "            in_batch.append(padded)\n",
        "        out_batch = []\n",
        "        for s in out_seqs:\n",
        "            padded = s + [PAD] * (max_out - len(s))\n",
        "            out_batch.append(padded)\n",
        "\n",
        "        in_tensor = torch.tensor(in_batch, dtype=torch.long)\n",
        "        out_tensor = torch.tensor(out_batch, dtype=torch.long)\n",
        "        in_lens_t = torch.tensor(in_lens, dtype=torch.long)\n",
        "        out_lens_t = torch.tensor(out_lens, dtype=torch.long)\n",
        "\n",
        "        return in_tensor, in_lens_t, out_tensor, out_lens_t"
      ],
      "metadata": {
        "id": "LUgDAgd1NS_p"
      },
      "execution_count": 12,
      "outputs": []
    },
    {
      "cell_type": "code",
      "source": [
        "#================================================================================\n",
        "# 3) Colab 셀 3: 데이터 불러와서 vocab 만들기 & train/val 분리\n",
        "#================================================================================\n",
        "DATA_PATH = 'training_data.txt'\n",
        "\n",
        "# 1) build_vocab=True 로 데이터셋 인스턴스 생성 → token2idx 얻기\n",
        "full_ds_vocab = MazeSeqDataset(data_path=DATA_PATH, build_vocab=True)\n",
        "token2idx = full_ds_vocab.token2idx\n",
        "vocab_size = len(token2idx)\n",
        "print(\"Final vocab size:\", vocab_size)\n",
        "\n",
        "# 2) 같은 데이터셋을 token2idx 고정하고 다시 생성\n",
        "full_ds = MazeSeqDataset(data_path=DATA_PATH, token2idx=token2idx, build_vocab=False)\n",
        "\n",
        "# 3) train/val 분리 (예: 90% train, 10% val)\n",
        "total_len = len(full_ds)\n",
        "train_len = int(total_len * 0.9)\n",
        "val_len = total_len - train_len\n",
        "train_ds, val_ds = random_split(full_ds, [train_len, val_len])\n",
        "\n",
        "print(f\"Total samples: {total_len}, Train: {train_len}, Val: {val_len}\")\n",
        "\n",
        "# 4) DataLoader 구성\n",
        "BATCH_SIZE = 64\n",
        "train_loader = DataLoader(train_ds, batch_size=BATCH_SIZE, shuffle=True, collate_fn=MazeSeqDataset.collate_fn)\n",
        "val_loader   = DataLoader(val_ds,   batch_size=BATCH_SIZE, shuffle=False, collate_fn=MazeSeqDataset.collate_fn)\n"
      ],
      "metadata": {
        "colab": {
          "base_uri": "https://localhost:8080/"
        },
        "id": "XIUOzbBtNeRr",
        "outputId": "2c2681a6-8842-4e6d-9228-382e1949cde3"
      },
      "execution_count": 13,
      "outputs": [
        {
          "output_type": "stream",
          "name": "stderr",
          "text": [
            "Parsing data: 100%|██████████| 68382/68382 [00:00<00:00, 86740.73it/s] \n"
          ]
        },
        {
          "output_type": "stream",
          "name": "stdout",
          "text": [
            "Vocab size: 288\n",
            "Final vocab size: 288\n"
          ]
        },
        {
          "output_type": "stream",
          "name": "stderr",
          "text": [
            "Parsing data: 100%|██████████| 68382/68382 [00:00<00:00, 278042.92it/s]\n"
          ]
        },
        {
          "output_type": "stream",
          "name": "stdout",
          "text": [
            "Total samples: 68382, Train: 61543, Val: 6839\n"
          ]
        }
      ]
    },
    {
      "cell_type": "code",
      "source": [
        "#================================================================================\n",
        "# 4) Colab 셀 4: Seq2Seq 모델 (Encoder-Decoder) 정의\n",
        "#================================================================================\n",
        "class Encoder(nn.Module):\n",
        "    def __init__(self, vocab_size, embed_dim, hidden_dim, num_layers=1, rnn_type='LSTM'):\n",
        "        super().__init__()\n",
        "        self.embedding = nn.Embedding(vocab_size, embed_dim, padding_idx=0)\n",
        "        if rnn_type == 'LSTM':\n",
        "            self.rnn = nn.LSTM(embed_dim, hidden_dim, num_layers=num_layers, batch_first=True)\n",
        "        elif rnn_type == 'GRU':\n",
        "            self.rnn = nn.GRU(embed_dim, hidden_dim, num_layers=num_layers, batch_first=True)\n",
        "        else:\n",
        "            raise ValueError(\"rnn_type must be 'LSTM' or 'GRU'\")\n",
        "        self.rnn_type = rnn_type\n",
        "        self.num_layers = num_layers\n",
        "        self.hidden_dim = hidden_dim\n",
        "\n",
        "    def forward(self, x, lengths):\n",
        "        \"\"\"\n",
        "        x: (batch_size, seq_len) LongTensor\n",
        "        lengths: (batch_size,) 실 입력 길이\n",
        "        return:\n",
        "          outputs: packed RNN outputs (ignored)\n",
        "          hidden: 최종 hidden state (h_n, c_n) 또는 h_n\n",
        "        \"\"\"\n",
        "        embedded = self.embedding(x)  # (B, T, E)\n",
        "        packed = nn.utils.rnn.pack_padded_sequence(embedded, lengths.cpu(), batch_first=True, enforce_sorted=False)\n",
        "        packed_out, hidden = self.rnn(packed)\n",
        "        return hidden\n",
        "\n",
        "class Decoder(nn.Module):\n",
        "    def __init__(self, vocab_size, embed_dim, hidden_dim, num_layers=1, rnn_type='LSTM'):\n",
        "        super().__init__()\n",
        "        self.embedding = nn.Embedding(vocab_size, embed_dim, padding_idx=0)\n",
        "        if rnn_type == 'LSTM':\n",
        "            self.rnn = nn.LSTM(embed_dim, hidden_dim, num_layers=num_layers, batch_first=True)\n",
        "        else:\n",
        "            self.rnn = nn.GRU(embed_dim, hidden_dim, num_layers=num_layers, batch_first=True)\n",
        "        self.out = nn.Linear(hidden_dim, vocab_size)\n",
        "        self.rnn_type = rnn_type\n",
        "\n",
        "    def forward(self, tgt_seq, hidden, teacher_forcing_ratio=0.0):\n",
        "        \"\"\"\n",
        "        tgt_seq: (batch_size, max_len) LongTensor, <SOS> ... <EOS> 포함\n",
        "        hidden: encoder에서 넘어온 hidden state\n",
        "        teacher_forcing_ratio: teacher forcing 확률 (0~1)\n",
        "        \"\"\"\n",
        "        batch_size, max_len = tgt_seq.size()\n",
        "        # 결과 logits: (batch_size, max_len, vocab_size)\n",
        "        outputs = torch.zeros(batch_size, max_len, vocab_size, device=device)\n",
        "\n",
        "        # 초기 입력 토큰은 모두 <SOS>\n",
        "        input_tok = tgt_seq[:, 0].unsqueeze(1)  # (B, 1)  항상 <SOS> 토큰 인덱스\n",
        "\n",
        "        # decoder hidden 초기화\n",
        "        dec_hidden = hidden\n",
        "\n",
        "        for t in range(1, max_len):\n",
        "            emb = self.embedding(input_tok)  # (B, 1, E)\n",
        "            if self.rnn_type == 'LSTM':\n",
        "                out, dec_hidden = self.rnn(emb, dec_hidden)\n",
        "            else:\n",
        "                out, dec_hidden = self.rnn(emb, dec_hidden)\n",
        "            # out: (B, 1, hidden_dim)\n",
        "            logit = self.out(out.squeeze(1))  # (B, vocab_size)\n",
        "            outputs[:, t, :] = logit\n",
        "\n",
        "            # Teacher forcing\n",
        "            teacher_force = random.random() < teacher_forcing_ratio\n",
        "            top1 = logit.argmax(dim=1).unsqueeze(1)  # (B,1)\n",
        "            next_input = tgt_seq[:, t].unsqueeze(1) if teacher_force else top1\n",
        "            input_tok = next_input\n",
        "\n",
        "        return outputs\n",
        "\n",
        "class Seq2Seq(nn.Module):\n",
        "    def __init__(self, vocab_size, embed_dim, hidden_dim, num_layers=1, rnn_type='LSTM'):\n",
        "        super().__init__()\n",
        "        self.encoder = Encoder(vocab_size, embed_dim, hidden_dim, num_layers, rnn_type)\n",
        "        self.decoder = Decoder(vocab_size, embed_dim, hidden_dim, num_layers, rnn_type)\n",
        "\n",
        "    def forward(self, src, src_lens, tgt, teacher_forcing_ratio=0.5):\n",
        "        \"\"\"\n",
        "        src: (B, src_len)\n",
        "        src_lens: (B,)\n",
        "        tgt: (B, tgt_len)\n",
        "        \"\"\"\n",
        "        enc_hidden = self.encoder(src, src_lens)\n",
        "        dec_outs = self.decoder(tgt, enc_hidden, teacher_forcing_ratio)\n",
        "        return dec_outs\n"
      ],
      "metadata": {
        "id": "Iy_H74_JNnMH"
      },
      "execution_count": 14,
      "outputs": []
    },
    {
      "cell_type": "code",
      "source": [
        "#================================================================================\n",
        "# 5) Colab 셀 5: 학습 및 평가 함수 정의\n",
        "#================================================================================\n",
        "def train_epoch(model, dataloader, optimizer, criterion, teacher_forcing_ratio=0.5):\n",
        "    model.train()\n",
        "    epoch_loss = 0.0\n",
        "    for src, src_lens, tgt, tgt_lens in tqdm(dataloader, desc=\"Train batches\"):\n",
        "        src = src.to(device)\n",
        "        src_lens = src_lens.to(device)\n",
        "        tgt = tgt.to(device)\n",
        "        tgt_lens = tgt_lens.to(device)\n",
        "\n",
        "        optimizer.zero_grad()\n",
        "        # 모델 출력: (B, tgt_len, vocab_size)\n",
        "        output_logits = model(src, src_lens, tgt, teacher_forcing_ratio)\n",
        "        # loss 계산: CrossEntropyLoss (PAD 인덱스 무시)\n",
        "        # output_logits[:, t, :] 은 t 시각 예측 logits\n",
        "        # tgt[:, t] 는 정답 인덱스\n",
        "        output_dim = output_logits.size(-1)\n",
        "        B, T, V = output_logits.size()\n",
        "        logits_flat = output_logits[:, 1:, :].reshape(-1, V)    # <SOS> 위치 제외\n",
        "        target_flat = tgt[:, 1:].reshape(-1)                    # 동일하게 shift\n",
        "        loss = criterion(logits_flat, target_flat)\n",
        "        loss.backward()\n",
        "        torch.nn.utils.clip_grad_norm_(model.parameters(), max_norm=1.0)\n",
        "        optimizer.step()\n",
        "        epoch_loss += loss.item()\n",
        "    return epoch_loss / len(dataloader)\n",
        "\n",
        "@torch.no_grad()\n",
        "def evaluate(model, dataloader, criterion):\n",
        "    model.eval()\n",
        "    epoch_loss = 0.0\n",
        "    total_batches = 0\n",
        "\n",
        "    # exact match 계산 변수\n",
        "    total_sentences = 0\n",
        "    exact_matches = 0\n",
        "\n",
        "    for src, src_lens, tgt, tgt_lens in tqdm(dataloader, desc=\"Val batches\"):\n",
        "        src = src.to(device)\n",
        "        src_lens = src_lens.to(device)\n",
        "        tgt = tgt.to(device)\n",
        "        tgt_lens = tgt_lens.to(device)\n",
        "\n",
        "        # 디코딩 시도: teacher_forcing_ratio=0 → 순수 무교사\n",
        "        output_logits = model(src, src_lens, tgt, teacher_forcing_ratio=0.0)\n",
        "        B, T, V = output_logits.size()\n",
        "        logits_flat = output_logits[:, 1:, :].reshape(-1, V)\n",
        "        target_flat = tgt[:, 1:].reshape(-1)\n",
        "        loss = criterion(logits_flat, target_flat)\n",
        "        epoch_loss += loss.item()\n",
        "        total_batches += 1\n",
        "\n",
        "        # “시퀀스 전체 일치” 계산:\n",
        "        # 각 배치마다 모델이 예측한 토큰 시퀀스를 tgt와 비교\n",
        "        # (PAD 뒤 일체 무시, <EOS> 만나면 이후 무시)\n",
        "        pred_idxs = output_logits.argmax(dim=-1)  # (B, T)\n",
        "        for b in range(B):\n",
        "            # 실제 출력 길이만큼 slice\n",
        "            true_len = tgt_lens[b].item()\n",
        "            true_seq = tgt[b, 1:true_len].tolist()      # <SOS> 제외\n",
        "            pred_seq = pred_idxs[b, 1:true_len].tolist() # <SOS> 제외\n",
        "            total_sentences += 1\n",
        "            if true_seq == pred_seq:\n",
        "                exact_matches += 1\n",
        "\n",
        "    avg_loss = epoch_loss / total_batches\n",
        "    seq_acc  = exact_matches / total_sentences * 100.0\n",
        "    return avg_loss, seq_acc"
      ],
      "metadata": {
        "id": "HBs9ysutNpgF"
      },
      "execution_count": 15,
      "outputs": []
    },
    {
      "cell_type": "code",
      "source": [
        "#================================================================================\n",
        "# 6) Colab 셀 6: 하이퍼파라미터 설정 및 모델/Optimizer/손실함수 준비\n",
        "#================================================================================\n",
        "EMBED_DIM = 128\n",
        "HIDDEN_DIM = 256\n",
        "NUM_LAYERS = 1\n",
        "RNN_TYPE = 'LSTM'   # or 'GRU'\n",
        "LEARNING_RATE = 1e-3\n",
        "NUM_EPOCHS = 30\n",
        "\n",
        "model = Seq2Seq(vocab_size, EMBED_DIM, HIDDEN_DIM, NUM_LAYERS, RNN_TYPE).to(device)\n",
        "optimizer = torch.optim.Adam(model.parameters(), lr=LEARNING_RATE)\n",
        "criterion = nn.CrossEntropyLoss(ignore_index=token2idx['<PAD>'])\n",
        "\n",
        "print(model)"
      ],
      "metadata": {
        "colab": {
          "base_uri": "https://localhost:8080/"
        },
        "id": "wh_5-LTfNuIw",
        "outputId": "1f611502-032f-48b8-cc8b-2a968c880192"
      },
      "execution_count": 16,
      "outputs": [
        {
          "output_type": "stream",
          "name": "stdout",
          "text": [
            "Seq2Seq(\n",
            "  (encoder): Encoder(\n",
            "    (embedding): Embedding(288, 128, padding_idx=0)\n",
            "    (rnn): LSTM(128, 256, batch_first=True)\n",
            "  )\n",
            "  (decoder): Decoder(\n",
            "    (embedding): Embedding(288, 128, padding_idx=0)\n",
            "    (rnn): LSTM(128, 256, batch_first=True)\n",
            "    (out): Linear(in_features=256, out_features=288, bias=True)\n",
            "  )\n",
            ")\n"
          ]
        }
      ]
    },
    {
      "cell_type": "code",
      "source": [
        "#================================================================================\n",
        "# 7) Colab 셀 7: 학습 루프 실행\n",
        "#================================================================================\n",
        "train_losses = []\n",
        "val_losses   = []\n",
        "val_seq_accs = []\n",
        "\n",
        "for epoch in range(1, NUM_EPOCHS+1):\n",
        "    print(f\"\\n===== Epoch {epoch}/{NUM_EPOCHS} =====\")\n",
        "    train_loss = train_epoch(model, train_loader, optimizer, criterion, teacher_forcing_ratio=0.5)\n",
        "    val_loss, val_seq_acc = evaluate(model, val_loader, criterion)\n",
        "\n",
        "    train_losses.append(train_loss)\n",
        "    val_losses.append(val_loss)\n",
        "    val_seq_accs.append(val_seq_acc)\n",
        "\n",
        "    print(f\"[Epoch {epoch}] Train Loss: {train_loss:.4f} | Val Loss: {val_loss:.4f} | Val ExactSeq Acc: {val_seq_acc:.2f}%\")\n",
        "\n",
        "# 학습이 끝난 뒤 모델 저장 (Colab 상의 /content/model.pt)\n",
        "torch.save(model.state_dict(), 'maze_seq2seq_model.pt')\n",
        "print(\"Model saved to maze_seq2seq_model.pt\")"
      ],
      "metadata": {
        "colab": {
          "base_uri": "https://localhost:8080/"
        },
        "id": "47j7HyOxN7EO",
        "outputId": "b2d31b08-60bf-495a-a67a-e07cafdd9414"
      },
      "execution_count": 17,
      "outputs": [
        {
          "output_type": "stream",
          "name": "stdout",
          "text": [
            "\n",
            "===== Epoch 1/30 =====\n"
          ]
        },
        {
          "output_type": "stream",
          "name": "stderr",
          "text": [
            "Train batches: 100%|██████████| 962/962 [00:39<00:00, 24.14it/s]\n",
            "Val batches: 100%|██████████| 107/107 [00:01<00:00, 61.38it/s]\n"
          ]
        },
        {
          "output_type": "stream",
          "name": "stdout",
          "text": [
            "[Epoch 1] Train Loss: 0.9013 | Val Loss: 1.6459 | Val ExactSeq Acc: 0.28%\n",
            "\n",
            "===== Epoch 2/30 =====\n"
          ]
        },
        {
          "output_type": "stream",
          "name": "stderr",
          "text": [
            "Train batches: 100%|██████████| 962/962 [00:39<00:00, 24.14it/s]\n",
            "Val batches: 100%|██████████| 107/107 [00:02<00:00, 52.43it/s]\n"
          ]
        },
        {
          "output_type": "stream",
          "name": "stdout",
          "text": [
            "[Epoch 2] Train Loss: 0.4343 | Val Loss: 0.6121 | Val ExactSeq Acc: 11.77%\n",
            "\n",
            "===== Epoch 3/30 =====\n"
          ]
        },
        {
          "output_type": "stream",
          "name": "stderr",
          "text": [
            "Train batches: 100%|██████████| 962/962 [00:38<00:00, 24.84it/s]\n",
            "Val batches: 100%|██████████| 107/107 [00:01<00:00, 61.30it/s]\n"
          ]
        },
        {
          "output_type": "stream",
          "name": "stdout",
          "text": [
            "[Epoch 3] Train Loss: 0.2251 | Val Loss: 0.5111 | Val ExactSeq Acc: 36.73%\n",
            "\n",
            "===== Epoch 4/30 =====\n"
          ]
        },
        {
          "output_type": "stream",
          "name": "stderr",
          "text": [
            "Train batches: 100%|██████████| 962/962 [00:39<00:00, 24.32it/s]\n",
            "Val batches: 100%|██████████| 107/107 [00:01<00:00, 61.71it/s]\n"
          ]
        },
        {
          "output_type": "stream",
          "name": "stdout",
          "text": [
            "[Epoch 4] Train Loss: 0.1428 | Val Loss: 0.3243 | Val ExactSeq Acc: 57.99%\n",
            "\n",
            "===== Epoch 5/30 =====\n"
          ]
        },
        {
          "output_type": "stream",
          "name": "stderr",
          "text": [
            "Train batches: 100%|██████████| 962/962 [00:39<00:00, 24.32it/s]\n",
            "Val batches: 100%|██████████| 107/107 [00:01<00:00, 61.09it/s]\n"
          ]
        },
        {
          "output_type": "stream",
          "name": "stdout",
          "text": [
            "[Epoch 5] Train Loss: 0.0810 | Val Loss: 0.1423 | Val ExactSeq Acc: 75.52%\n",
            "\n",
            "===== Epoch 6/30 =====\n"
          ]
        },
        {
          "output_type": "stream",
          "name": "stderr",
          "text": [
            "Train batches: 100%|██████████| 962/962 [00:38<00:00, 24.85it/s]\n",
            "Val batches: 100%|██████████| 107/107 [00:01<00:00, 62.51it/s]\n"
          ]
        },
        {
          "output_type": "stream",
          "name": "stdout",
          "text": [
            "[Epoch 6] Train Loss: 0.0457 | Val Loss: 0.1348 | Val ExactSeq Acc: 78.18%\n",
            "\n",
            "===== Epoch 7/30 =====\n"
          ]
        },
        {
          "output_type": "stream",
          "name": "stderr",
          "text": [
            "Train batches: 100%|██████████| 962/962 [00:38<00:00, 25.09it/s]\n",
            "Val batches: 100%|██████████| 107/107 [00:01<00:00, 53.92it/s]\n"
          ]
        },
        {
          "output_type": "stream",
          "name": "stdout",
          "text": [
            "[Epoch 7] Train Loss: 0.0358 | Val Loss: 0.1255 | Val ExactSeq Acc: 82.06%\n",
            "\n",
            "===== Epoch 8/30 =====\n"
          ]
        },
        {
          "output_type": "stream",
          "name": "stderr",
          "text": [
            "Train batches: 100%|██████████| 962/962 [00:39<00:00, 24.63it/s]\n",
            "Val batches: 100%|██████████| 107/107 [00:01<00:00, 61.91it/s]\n"
          ]
        },
        {
          "output_type": "stream",
          "name": "stdout",
          "text": [
            "[Epoch 8] Train Loss: 0.0313 | Val Loss: 0.0993 | Val ExactSeq Acc: 82.82%\n",
            "\n",
            "===== Epoch 9/30 =====\n"
          ]
        },
        {
          "output_type": "stream",
          "name": "stderr",
          "text": [
            "Train batches: 100%|██████████| 962/962 [00:38<00:00, 24.98it/s]\n",
            "Val batches: 100%|██████████| 107/107 [00:01<00:00, 62.93it/s]\n"
          ]
        },
        {
          "output_type": "stream",
          "name": "stdout",
          "text": [
            "[Epoch 9] Train Loss: 0.0273 | Val Loss: 0.1106 | Val ExactSeq Acc: 83.83%\n",
            "\n",
            "===== Epoch 10/30 =====\n"
          ]
        },
        {
          "output_type": "stream",
          "name": "stderr",
          "text": [
            "Train batches: 100%|██████████| 962/962 [00:39<00:00, 24.57it/s]\n",
            "Val batches: 100%|██████████| 107/107 [00:02<00:00, 50.99it/s]\n"
          ]
        },
        {
          "output_type": "stream",
          "name": "stdout",
          "text": [
            "[Epoch 10] Train Loss: 0.0244 | Val Loss: 0.0872 | Val ExactSeq Acc: 85.47%\n",
            "\n",
            "===== Epoch 11/30 =====\n"
          ]
        },
        {
          "output_type": "stream",
          "name": "stderr",
          "text": [
            "Train batches: 100%|██████████| 962/962 [00:39<00:00, 24.59it/s]\n",
            "Val batches: 100%|██████████| 107/107 [00:01<00:00, 59.51it/s]\n"
          ]
        },
        {
          "output_type": "stream",
          "name": "stdout",
          "text": [
            "[Epoch 11] Train Loss: 0.0223 | Val Loss: 0.0984 | Val ExactSeq Acc: 85.06%\n",
            "\n",
            "===== Epoch 12/30 =====\n"
          ]
        },
        {
          "output_type": "stream",
          "name": "stderr",
          "text": [
            "Train batches: 100%|██████████| 962/962 [00:39<00:00, 24.50it/s]\n",
            "Val batches: 100%|██████████| 107/107 [00:01<00:00, 61.31it/s]\n"
          ]
        },
        {
          "output_type": "stream",
          "name": "stdout",
          "text": [
            "[Epoch 12] Train Loss: 0.0208 | Val Loss: 0.0875 | Val ExactSeq Acc: 86.09%\n",
            "\n",
            "===== Epoch 13/30 =====\n"
          ]
        },
        {
          "output_type": "stream",
          "name": "stderr",
          "text": [
            "Train batches: 100%|██████████| 962/962 [00:39<00:00, 24.38it/s]\n",
            "Val batches: 100%|██████████| 107/107 [00:01<00:00, 62.49it/s]\n"
          ]
        },
        {
          "output_type": "stream",
          "name": "stdout",
          "text": [
            "[Epoch 13] Train Loss: 0.0192 | Val Loss: 0.0869 | Val ExactSeq Acc: 86.36%\n",
            "\n",
            "===== Epoch 14/30 =====\n"
          ]
        },
        {
          "output_type": "stream",
          "name": "stderr",
          "text": [
            "Train batches: 100%|██████████| 962/962 [00:39<00:00, 24.46it/s]\n",
            "Val batches: 100%|██████████| 107/107 [00:01<00:00, 61.31it/s]\n"
          ]
        },
        {
          "output_type": "stream",
          "name": "stdout",
          "text": [
            "[Epoch 14] Train Loss: 0.0172 | Val Loss: 0.0895 | Val ExactSeq Acc: 86.61%\n",
            "\n",
            "===== Epoch 15/30 =====\n"
          ]
        },
        {
          "output_type": "stream",
          "name": "stderr",
          "text": [
            "Train batches: 100%|██████████| 962/962 [00:39<00:00, 24.48it/s]\n",
            "Val batches: 100%|██████████| 107/107 [00:02<00:00, 50.56it/s]\n"
          ]
        },
        {
          "output_type": "stream",
          "name": "stdout",
          "text": [
            "[Epoch 15] Train Loss: 0.0158 | Val Loss: 0.0839 | Val ExactSeq Acc: 87.02%\n",
            "\n",
            "===== Epoch 16/30 =====\n"
          ]
        },
        {
          "output_type": "stream",
          "name": "stderr",
          "text": [
            "Train batches: 100%|██████████| 962/962 [00:38<00:00, 25.23it/s]\n",
            "Val batches: 100%|██████████| 107/107 [00:01<00:00, 63.59it/s]\n"
          ]
        },
        {
          "output_type": "stream",
          "name": "stdout",
          "text": [
            "[Epoch 16] Train Loss: 0.0166 | Val Loss: 0.0804 | Val ExactSeq Acc: 87.51%\n",
            "\n",
            "===== Epoch 17/30 =====\n"
          ]
        },
        {
          "output_type": "stream",
          "name": "stderr",
          "text": [
            "Train batches: 100%|██████████| 962/962 [00:38<00:00, 25.30it/s]\n",
            "Val batches: 100%|██████████| 107/107 [00:01<00:00, 62.49it/s]\n"
          ]
        },
        {
          "output_type": "stream",
          "name": "stdout",
          "text": [
            "[Epoch 17] Train Loss: 0.0153 | Val Loss: 0.0850 | Val ExactSeq Acc: 86.04%\n",
            "\n",
            "===== Epoch 18/30 =====\n"
          ]
        },
        {
          "output_type": "stream",
          "name": "stderr",
          "text": [
            "Train batches: 100%|██████████| 962/962 [00:38<00:00, 25.31it/s]\n",
            "Val batches: 100%|██████████| 107/107 [00:02<00:00, 48.12it/s]\n"
          ]
        },
        {
          "output_type": "stream",
          "name": "stdout",
          "text": [
            "[Epoch 18] Train Loss: 0.0141 | Val Loss: 0.0754 | Val ExactSeq Acc: 87.41%\n",
            "\n",
            "===== Epoch 19/30 =====\n"
          ]
        },
        {
          "output_type": "stream",
          "name": "stderr",
          "text": [
            "Train batches: 100%|██████████| 962/962 [00:38<00:00, 25.24it/s]\n",
            "Val batches: 100%|██████████| 107/107 [00:01<00:00, 63.38it/s]\n"
          ]
        },
        {
          "output_type": "stream",
          "name": "stdout",
          "text": [
            "[Epoch 19] Train Loss: 0.0147 | Val Loss: 0.0805 | Val ExactSeq Acc: 87.35%\n",
            "\n",
            "===== Epoch 20/30 =====\n"
          ]
        },
        {
          "output_type": "stream",
          "name": "stderr",
          "text": [
            "Train batches: 100%|██████████| 962/962 [00:38<00:00, 25.25it/s]\n",
            "Val batches: 100%|██████████| 107/107 [00:01<00:00, 62.73it/s]\n"
          ]
        },
        {
          "output_type": "stream",
          "name": "stdout",
          "text": [
            "[Epoch 20] Train Loss: 0.0134 | Val Loss: 0.0863 | Val ExactSeq Acc: 87.75%\n",
            "\n",
            "===== Epoch 21/30 =====\n"
          ]
        },
        {
          "output_type": "stream",
          "name": "stderr",
          "text": [
            "Train batches: 100%|██████████| 962/962 [00:38<00:00, 24.74it/s]\n",
            "Val batches: 100%|██████████| 107/107 [00:02<00:00, 47.50it/s]\n"
          ]
        },
        {
          "output_type": "stream",
          "name": "stdout",
          "text": [
            "[Epoch 21] Train Loss: 0.0135 | Val Loss: 0.0924 | Val ExactSeq Acc: 87.66%\n",
            "\n",
            "===== Epoch 22/30 =====\n"
          ]
        },
        {
          "output_type": "stream",
          "name": "stderr",
          "text": [
            "Train batches: 100%|██████████| 962/962 [00:38<00:00, 24.96it/s]\n",
            "Val batches: 100%|██████████| 107/107 [00:01<00:00, 62.84it/s]\n"
          ]
        },
        {
          "output_type": "stream",
          "name": "stdout",
          "text": [
            "[Epoch 22] Train Loss: 0.0119 | Val Loss: 0.0844 | Val ExactSeq Acc: 88.17%\n",
            "\n",
            "===== Epoch 23/30 =====\n"
          ]
        },
        {
          "output_type": "stream",
          "name": "stderr",
          "text": [
            "Train batches: 100%|██████████| 962/962 [00:38<00:00, 24.97it/s]\n",
            "Val batches: 100%|██████████| 107/107 [00:01<00:00, 62.20it/s]\n"
          ]
        },
        {
          "output_type": "stream",
          "name": "stdout",
          "text": [
            "[Epoch 23] Train Loss: 0.0120 | Val Loss: 0.0797 | Val ExactSeq Acc: 87.91%\n",
            "\n",
            "===== Epoch 24/30 =====\n"
          ]
        },
        {
          "output_type": "stream",
          "name": "stderr",
          "text": [
            "Train batches: 100%|██████████| 962/962 [00:38<00:00, 24.80it/s]\n",
            "Val batches: 100%|██████████| 107/107 [00:02<00:00, 49.65it/s]\n"
          ]
        },
        {
          "output_type": "stream",
          "name": "stdout",
          "text": [
            "[Epoch 24] Train Loss: 0.0116 | Val Loss: 0.0821 | Val ExactSeq Acc: 87.63%\n",
            "\n",
            "===== Epoch 25/30 =====\n"
          ]
        },
        {
          "output_type": "stream",
          "name": "stderr",
          "text": [
            "Train batches: 100%|██████████| 962/962 [00:38<00:00, 24.95it/s]\n",
            "Val batches: 100%|██████████| 107/107 [00:01<00:00, 63.43it/s]\n"
          ]
        },
        {
          "output_type": "stream",
          "name": "stdout",
          "text": [
            "[Epoch 25] Train Loss: 0.0118 | Val Loss: 0.0816 | Val ExactSeq Acc: 88.51%\n",
            "\n",
            "===== Epoch 26/30 =====\n"
          ]
        },
        {
          "output_type": "stream",
          "name": "stderr",
          "text": [
            "Train batches: 100%|██████████| 962/962 [00:39<00:00, 24.26it/s]\n",
            "Val batches: 100%|██████████| 107/107 [00:01<00:00, 62.10it/s]\n"
          ]
        },
        {
          "output_type": "stream",
          "name": "stdout",
          "text": [
            "[Epoch 26] Train Loss: 0.0113 | Val Loss: 0.0777 | Val ExactSeq Acc: 88.86%\n",
            "\n",
            "===== Epoch 27/30 =====\n"
          ]
        },
        {
          "output_type": "stream",
          "name": "stderr",
          "text": [
            "Train batches: 100%|██████████| 962/962 [00:39<00:00, 24.16it/s]\n",
            "Val batches: 100%|██████████| 107/107 [00:01<00:00, 62.88it/s]\n"
          ]
        },
        {
          "output_type": "stream",
          "name": "stdout",
          "text": [
            "[Epoch 27] Train Loss: 0.0099 | Val Loss: 0.0830 | Val ExactSeq Acc: 88.67%\n",
            "\n",
            "===== Epoch 28/30 =====\n"
          ]
        },
        {
          "output_type": "stream",
          "name": "stderr",
          "text": [
            "Train batches: 100%|██████████| 962/962 [00:38<00:00, 25.16it/s]\n",
            "Val batches: 100%|██████████| 107/107 [00:01<00:00, 62.81it/s]\n"
          ]
        },
        {
          "output_type": "stream",
          "name": "stdout",
          "text": [
            "[Epoch 28] Train Loss: 0.0109 | Val Loss: 0.0922 | Val ExactSeq Acc: 87.09%\n",
            "\n",
            "===== Epoch 29/30 =====\n"
          ]
        },
        {
          "output_type": "stream",
          "name": "stderr",
          "text": [
            "Train batches: 100%|██████████| 962/962 [00:38<00:00, 25.26it/s]\n",
            "Val batches: 100%|██████████| 107/107 [00:01<00:00, 61.23it/s]\n"
          ]
        },
        {
          "output_type": "stream",
          "name": "stdout",
          "text": [
            "[Epoch 29] Train Loss: 0.0115 | Val Loss: 0.0741 | Val ExactSeq Acc: 89.00%\n",
            "\n",
            "===== Epoch 30/30 =====\n"
          ]
        },
        {
          "output_type": "stream",
          "name": "stderr",
          "text": [
            "Train batches: 100%|██████████| 962/962 [00:38<00:00, 24.78it/s]\n",
            "Val batches: 100%|██████████| 107/107 [00:01<00:00, 62.60it/s]"
          ]
        },
        {
          "output_type": "stream",
          "name": "stdout",
          "text": [
            "[Epoch 30] Train Loss: 0.0104 | Val Loss: 0.0843 | Val ExactSeq Acc: 88.35%\n",
            "Model saved to maze_seq2seq_model.pt\n"
          ]
        },
        {
          "output_type": "stream",
          "name": "stderr",
          "text": [
            "\n"
          ]
        }
      ]
    },
    {
      "cell_type": "code",
      "source": [
        "#================================================================================\n",
        "# 8) Colab 셀 8: Loss/Accuracy 시각화 (선택사항)\n",
        "#================================================================================\n",
        "import matplotlib.pyplot as plt\n",
        "\n",
        "plt.figure(figsize=(10,4))\n",
        "plt.subplot(1,2,1)\n",
        "plt.plot(range(1, NUM_EPOCHS+1), train_losses, label='Train Loss')\n",
        "plt.plot(range(1, NUM_EPOCHS+1), val_losses, label='Val Loss')\n",
        "plt.xlabel('Epoch')\n",
        "plt.ylabel('Loss')\n",
        "plt.legend()\n",
        "plt.title('Loss Curve')\n",
        "\n",
        "plt.subplot(1,2,2)\n",
        "plt.plot(range(1, NUM_EPOCHS+1), val_seq_accs, label='Val ExactSeq Acc')\n",
        "plt.xlabel('Epoch')\n",
        "plt.ylabel('Exact Match (%)')\n",
        "plt.legend()\n",
        "plt.title('Sequence Exact Match Accuracy')\n",
        "\n",
        "plt.tight_layout()\n",
        "plt.show()"
      ],
      "metadata": {
        "colab": {
          "base_uri": "https://localhost:8080/",
          "height": 407
        },
        "id": "L7dGFwKdN8G0",
        "outputId": "56921c78-825e-4a69-f248-5a67c6d2cc7f"
      },
      "execution_count": 18,
      "outputs": [
        {
          "output_type": "display_data",
          "data": {
            "text/plain": [
              "<Figure size 1000x400 with 2 Axes>"
            ],
            "image/png": "[encoded data removed]"
          },
          "metadata": {}
        }
      ]
    },
    {
      "cell_type": "code",
      "source": [
        "#================================================================================\n",
        "# 9) Colab 셀: 모델 불러오기 및 Inference 함수\n",
        "#================================================================================\n",
        "\n",
        "import torch\n",
        "import torch.nn as nn\n",
        "\n",
        "# (이미 위에서 정의해 두었던 Encoder, Decoder, Seq2Seq 클래스가 런타임에 남아 있다고 가정합니다.)\n",
        "# 만약 런타임을 재시작했다면, Encoder/Decoder/Seq2Seq 클래스를 다시 정의한 뒤 아래를 실행하세요.\n",
        "\n",
        "# 1) 저장된 token2idx 불러오기\n",
        "# ────────────────────────────────────────────────────────────────────────────────\n",
        "# 이전 셀에서 token2idx를 생성하고 동일 세션에 남아 있는 경우:\n",
        "#    token2idx = {'<PAD>':0, '<SOS>':1, '<EOS>':2, '1f_1':3, '1f_2':4, 'D=5':5, 'TYPE=Corridor':6, ... }\n",
        "# 만약 세션을 재시작했거나 따로 파일로 저장한 경우, JSON/피클로 load 해서 token2idx를 복원해야 합니다.\n",
        "# 예시: token2idx.json 으로 저장해 두었다면 아래처럼 불러올 수 있습니다.\n",
        "#\n",
        "# import json\n",
        "# with open('token2idx.json', 'r', encoding='utf-8') as f:\n",
        "#     token2idx = json.load(f)\n",
        "\n",
        "# 이 예시에서는 앞선 셀에서 token2idx가 이미 메모리에 남아 있다고 가정합니다.\n",
        "# (만약 없다면 위 주석대로 JSON/피클로 복원해 주세요.)\n",
        "print(\"Vocab size:\", len(token2idx))\n",
        "\n",
        "# 2) idx2token 생성\n",
        "idx2token = { idx: tok for tok, idx in token2idx.items() }\n",
        "\n",
        "# 3) 하이퍼파라미터, Device 세팅\n",
        "device = torch.device('cuda' if torch.cuda.is_available() else 'cpu')\n",
        "print(\"Using device for inference:\", device)\n",
        "\n",
        "EMBED_DIM = 128      # 앞서 학습할 때 사용한 값과 동일해야 합니다.\n",
        "HIDDEN_DIM = 256     # 앞서 학습할 때 사용한 값과 동일해야 합니다.\n",
        "NUM_LAYERS = 1       # 앞서 학습할 때 사용한 값과 동일해야 합니다.\n",
        "RNN_TYPE = 'LSTM'    # 또는 'GRU' (학습 시점에 지정했던 값과 일치해야 합니다.)\n",
        "\n",
        "vocab_size = len(token2idx)\n",
        "\n",
        "# 4) Seq2Seq 모델 인스턴스 생성 & 파라미터 로드\n",
        "model = Seq2Seq(vocab_size, EMBED_DIM, HIDDEN_DIM, NUM_LAYERS, RNN_TYPE).to(device)\n",
        "model.load_state_dict(torch.load('maze_seq2seq_model.pt', map_location=device))\n",
        "model.eval()\n",
        "print(\"Model loaded from maze_seq2seq_model.pt\")\n",
        "\n",
        "# 5) 추론(inference) 함수 정의\n",
        "# ────────────────────────────────────────────────────────────────────────────────\n",
        "#    start_id_str, end_id_str: 예) '1f_1', '1f_2' 등\n",
        "#    max_len: 디코더가 생성할 최대 토큰 길이 (실제 <EOS> 만나면 곧바로 종료)\n",
        "def infer_sequence(start_id_str, end_id_str, max_len=50):\n",
        "    \"\"\"\n",
        "    1) 입력 시퀀스: ['<SOS>', start_id_str, end_id_str, '<EOS>']\n",
        "    2) Encoder → hidden 얻기\n",
        "    3) Decoder에 <SOS>를 첫 입력으로 주고, 한 스텝씩 예측.\n",
        "       각 스텝마다 argmax로 다음 토큰 인덱스 골라서 디코더에 다시 입력\n",
        "    4) <EOS> 인덱스를 만나면 중단. 생성된 인덱스들을 토큰으로 복원하여 리턴.\n",
        "    \"\"\"\n",
        "\n",
        "    # (1) 입력 인덱스로 변환\n",
        "    if start_id_str not in token2idx or end_id_str not in token2idx:\n",
        "        raise ValueError(f\"'{start_id_str}' 또는 '{end_id_str}' 가 token2idx에 없습니다.\")\n",
        "\n",
        "    sos_idx = token2idx['<SOS>']\n",
        "    eos_idx = token2idx['<EOS>']\n",
        "    pad_idx = token2idx['<PAD>']\n",
        "\n",
        "    # src_idxs: [<SOS>, start, end, <EOS>]\n",
        "    src_idxs = [sos_idx, token2idx[start_id_str], token2idx[end_id_str], eos_idx]\n",
        "    src_tensor = torch.tensor(src_idxs, dtype=torch.long, device=device).unsqueeze(0)  # (1, src_len)\n",
        "    src_lens   = torch.tensor([len(src_idxs)], dtype=torch.long, device=device)       # (1,)\n",
        "\n",
        "    # (2) Encoder forward -> hidden\n",
        "    #     LSTM일 때는 (h_n, c_n)이 반환, GRU일 때는 h_n 반환\n",
        "    with torch.no_grad():\n",
        "        enc_hidden = model.encoder(src_tensor, src_lens)\n",
        "\n",
        "    # (3) Decoder 초기 입력: <SOS> 하나만\n",
        "    dec_input = torch.tensor([[sos_idx]], dtype=torch.long, device=device)  # shape=(1,1)\n",
        "    dec_hidden = enc_hidden  # LSTM이면 (h_n, c_n), GRU이면 h_n\n",
        "\n",
        "    generated_idxs = []\n",
        "\n",
        "    # (4) 한 스텝씩 생성\n",
        "    for t in range(max_len):\n",
        "        # dec_input: (1,1)  → embedding → rnn → linear → logits(1, vocab_size)\n",
        "        emb = model.decoder.embedding(dec_input)  # (1,1, E)\n",
        "        if RNN_TYPE == 'LSTM':\n",
        "            out, dec_hidden = model.decoder.rnn(emb, dec_hidden)\n",
        "        else:\n",
        "            out, dec_hidden = model.decoder.rnn(emb, dec_hidden)\n",
        "        logits = model.decoder.out(out.squeeze(1))  # (1, vocab_size)\n",
        "\n",
        "        # Greedy: 가장 높은 확률의 토큰 선택\n",
        "        next_idx = logits.argmax(dim=1).item()  # 스칼라\n",
        "        generated_idxs.append(next_idx)\n",
        "\n",
        "        # <EOS> 나오면 중단\n",
        "        if next_idx == eos_idx:\n",
        "            break\n",
        "\n",
        "        # 다음 디코더 입력으로 바로 넣음\n",
        "        dec_input = torch.tensor([[next_idx]], dtype=torch.long, device=device)\n",
        "\n",
        "    # 생성된 인덱스 리스트 → 토큰 리스트로 변환\n",
        "    # (예: [D=5, TYPE=Corridor, TURN_RIGHT, D=5, TYPE=Room, END, <EOS>])\n",
        "    generated_tokens = [ idx2token[idx] for idx in generated_idxs ]\n",
        "\n",
        "    # <EOS> 이후 토큰(있다면) 제거. (보통 EOS 직전까지가 우리가 원하는 “END” 토큰까지의 시퀀스)\n",
        "    if '<EOS>' in generated_tokens:\n",
        "        eos_pos = generated_tokens.index('<EOS>')\n",
        "        generated_tokens = generated_tokens[:eos_pos]\n",
        "\n",
        "    return generated_tokens\n",
        "\n",
        "#================================================================================\n",
        "# 6) 테스트: 실제로 방 ID 조합을 넣어보고 결과 확인\n",
        "#================================================================================\n",
        "\n",
        "# 예시 1:\n",
        "result1 = infer_sequence('27117', '25112')\n",
        "print(\"Input:  27117  →  25112\")\n",
        "print(\"Output: \", result1)\n",
        "# 예시 출력 형태: ['D=5', 'TYPE=Corridor', 'TURN_RIGHT', 'D=5', 'TYPE=Room', 'END']\n",
        "\n",
        "# 예시 2:\n",
        "result2 = infer_sequence('27113', '25312')\n",
        "print(\"\\nInput:  27113  →  25312\")\n",
        "print(\"Output: \", result2)\n",
        "# 예시 출력 형태: ['D=5', 'TYPE=Corridor', 'TURN_RIGHT', 'D=10', 'TYPE=Corridor', 'TURN_LEFT', 'D=5', 'TYPE=Room', 'END']\n"
      ],
      "metadata": {
        "colab": {
          "base_uri": "https://localhost:8080/"
        },
        "id": "y3qVJGWdRmJH",
        "outputId": "61e0469a-2801-4e24-fff4-0ce463e1f551"
      },
      "execution_count": 19,
      "outputs": [
        {
          "output_type": "stream",
          "name": "stdout",
          "text": [
            "Vocab size: 288\n",
            "Using device for inference: cuda\n",
            "Model loaded from maze_seq2seq_model.pt\n",
            "Input:  27117  →  25112\n",
            "Output:  ['D=5', 'TYPE=Corridor', 'TURN_LEFT', 'D=70', 'TYPE=Corridor', 'TURN_RIGHT', 'D=85', 'TYPE=Corridor', 'TURN_RIGHT', 'D=50', 'TYPE=Corridor', 'TURN_RIGHT', 'D=5', 'TYPE=Room', 'END']\n",
            "\n",
            "Input:  27113  →  25312\n",
            "Output:  ['D=5', 'TYPE=Corridor', 'TURN_LEFT', 'D=55', 'TYPE=Corridor', 'TURN_RIGHT', 'D=85', 'TYPE=Corridor', 'TURN_RIGHT', 'D=15', 'TYPE=Corridor', 'TURN_RIGHT', 'D=5', 'TYPE=Elevator', 'D=0', 'TYPE=Elevator', 'D=0', 'TYPE=Elevator', 'D=5', 'TYPE=Corridor', 'TURN_RIGHT', 'D=55', 'TYPE=Corridor', 'TURN_RIGHT', 'D=5', 'TYPE=Room', 'END']\n"
          ]
        }
      ]
    }
  ]
}