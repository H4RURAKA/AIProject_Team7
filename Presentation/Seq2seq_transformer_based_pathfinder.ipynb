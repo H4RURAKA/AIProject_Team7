{
  "nbformat": 4,
  "nbformat_minor": 0,
  "metadata": {
    "colab": {
      "provenance": [],
      "gpuType": "T4"
    },
    "kernelspec": {
      "name": "python3",
      "display_name": "Python 3"
    },
    "language_info": {
      "name": "python"
    },
    "accelerator": "GPU"
  },
  "cells": [
    {
      "cell_type": "code",
      "execution_count": 1,
      "metadata": {
        "colab": {
          "base_uri": "https://localhost:8080/"
        },
        "id": "z_LxLtKa4Dp8",
        "outputId": "a346c7c1-fa48-4136-c3de-9e6e324c83f2"
      },
      "outputs": [
        {
          "output_type": "stream",
          "name": "stdout",
          "text": [
            "Using device: cuda\n"
          ]
        }
      ],
      "source": [
        "# GPU 사용 여부 확인\n",
        "import os\n",
        "import random\n",
        "import math\n",
        "from tqdm import tqdm\n",
        "import json\n",
        "\n",
        "import torch\n",
        "import torch.nn as nn\n",
        "import torch.optim as optim\n",
        "from torch.utils.data import Dataset, DataLoader, random_split\n",
        "\n",
        "device = torch.device('cuda' if torch.cuda.is_available() else 'cpu')\n",
        "print(\"Using device:\", device)\n"
      ]
    },
    {
      "cell_type": "code",
      "source": [
        "class MazeSeqDataset(Dataset):\n",
        "    def __init__(self, data_path, token2idx=None, build_vocab=False):\n",
        "        self.pairs = []\n",
        "        self.token2idx = token2idx or {}\n",
        "        self.build_vocab = build_vocab\n",
        "        self._all_tokens = set()\n",
        "\n",
        "        with open(data_path, 'r', encoding='utf-8') as f:\n",
        "            lines = [line.strip() for line in f if line.strip()]\n",
        "\n",
        "        for line in tqdm(lines, desc=\"Parsing data\"):\n",
        "            lhs, rhs = line.split('|')\n",
        "            start_id, end_id = lhs.strip().split()\n",
        "            input_tokens = [start_id, end_id]\n",
        "            output_tokens = rhs.strip().split()\n",
        "\n",
        "            if self.build_vocab:\n",
        "                self._all_tokens.update(input_tokens)\n",
        "                self._all_tokens.update(output_tokens)\n",
        "            self.pairs.append((input_tokens, output_tokens))\n",
        "\n",
        "        if self.build_vocab:\n",
        "            specials = ['<PAD>', '<SOS>', '<EOS>']\n",
        "            idx = 0\n",
        "            for sp in specials:\n",
        "                self.token2idx[sp] = idx; idx += 1\n",
        "            for tok in sorted(self._all_tokens):\n",
        "                if tok not in self.token2idx:\n",
        "                    self.token2idx[tok] = idx; idx += 1\n",
        "            print(f\"Vocab size: {len(self.token2idx)}\")\n",
        "\n",
        "        if not self.token2idx:\n",
        "            raise ValueError(\"token2idx is empty. Pass build_vocab=True at least once.\")\n",
        "\n",
        "        self.data = []\n",
        "        for ins, outs in self.pairs:\n",
        "            in_idx = [self.token2idx['<SOS>']] + [self.token2idx[t] for t in ins] + [self.token2idx['<EOS>']]\n",
        "            out_idx = [self.token2idx['<SOS>']] + [self.token2idx[t] for t in outs] + [self.token2idx['<EOS>']]\n",
        "            self.data.append((in_idx, out_idx))\n",
        "\n",
        "    def __len__(self):\n",
        "        return len(self.data)\n",
        "\n",
        "    def __getitem__(self, idx):\n",
        "        return self.data[idx]\n",
        "\n",
        "    @staticmethod\n",
        "    def collate_fn(batch):\n",
        "        in_seqs, out_seqs = zip(*batch)\n",
        "        in_lens = [len(s) for s in in_seqs]\n",
        "        out_lens = [len(s) for s in out_seqs]\n",
        "        max_in, max_out = max(in_lens), max(out_lens)\n",
        "        PAD = 0\n",
        "\n",
        "        in_batch = [s + [PAD]*(max_in-len(s)) for s in in_seqs]\n",
        "        out_batch = [s + [PAD]*(max_out-len(s)) for s in out_seqs]\n",
        "\n",
        "        return (\n",
        "            torch.tensor(in_batch, dtype=torch.long),\n",
        "            torch.tensor(in_lens, dtype=torch.long),\n",
        "            torch.tensor(out_batch, dtype=torch.long),\n",
        "            torch.tensor(out_lens, dtype=torch.long),\n",
        "        )\n"
      ],
      "metadata": {
        "id": "ulMazNsx479W"
      },
      "execution_count": 2,
      "outputs": []
    },
    {
      "cell_type": "code",
      "source": [
        "DATA_PATH = 'training_data.txt'\n",
        "\n",
        "# 1) 로컬에서 만든 token2idx.json 불러오기\n",
        "with open('token2idx.json', 'r', encoding='utf-8') as f:\n",
        "    token2idx = json.load(f)\n",
        "vocab_size = len(token2idx)\n",
        "\n",
        "# 2) token2idx 고정하여 데이터셋 생성\n",
        "full_ds = MazeSeqDataset(data_path=DATA_PATH, token2idx=token2idx, build_vocab=False)\n",
        "\n",
        "# 3) train/val 분리\n",
        "total = len(full_ds)\n",
        "train_len = int(total * 0.9)\n",
        "val_len   = total - train_len\n",
        "train_ds, val_ds = random_split(full_ds, [train_len, val_len])\n",
        "print(f\"Total: {total} | Train: {train_len} | Val: {val_len}\")\n",
        "\n",
        "# 4) DataLoader\n",
        "BATCH_SIZE = 64\n",
        "train_loader = DataLoader(train_ds, batch_size=BATCH_SIZE, shuffle=True, collate_fn=MazeSeqDataset.collate_fn)\n",
        "val_loader   = DataLoader(val_ds,   batch_size=BATCH_SIZE, shuffle=False, collate_fn=MazeSeqDataset.collate_fn)\n"
      ],
      "metadata": {
        "colab": {
          "base_uri": "https://localhost:8080/"
        },
        "id": "M7hH0q4M49K8",
        "outputId": "78d960f4-2e0d-42e2-c493-eaafec79040c"
      },
      "execution_count": 3,
      "outputs": [
        {
          "output_type": "stream",
          "name": "stderr",
          "text": [
            "Parsing data: 100%|██████████| 472656/472656 [00:06<00:00, 71423.11it/s]\n"
          ]
        },
        {
          "output_type": "stream",
          "name": "stdout",
          "text": [
            "Total: 472656 | Train: 425390 | Val: 47266\n"
          ]
        }
      ]
    },
    {
      "cell_type": "code",
      "source": [
        "class PositionalEncoding(nn.Module):\n",
        "    def __init__(self, d_model, max_len=5000):\n",
        "        super().__init__()\n",
        "        pe = torch.zeros(max_len, d_model)\n",
        "        pos = torch.arange(0, max_len, dtype=torch.float).unsqueeze(1)\n",
        "        div = torch.exp(torch.arange(0, d_model, 2).float() * -(math.log(10000.0)/d_model))\n",
        "        pe[:, 0::2] = torch.sin(pos * div)\n",
        "        pe[:, 1::2] = torch.cos(pos * div)\n",
        "        self.pe = pe.unsqueeze(0)  # (1, max_len, d_model)\n",
        "\n",
        "    def forward(self, x):\n",
        "        x = x + self.pe[:, :x.size(1), :].to(x.device)\n",
        "        return x\n",
        "\n",
        "def generate_square_subsequent_mask(sz):\n",
        "    # upper-triangular(1) 부분만 True, 나머지는 False\n",
        "    mask = torch.triu(torch.ones(sz, sz), diagonal=1).bool()\n",
        "    return mask  # (sz, sz), dtype=torch.bool\n",
        "\n",
        "class TransformerSeq2Seq(nn.Module):\n",
        "    def __init__(self, vocab_size, d_model=512, nhead=8,\n",
        "                 num_encoder_layers=3, num_decoder_layers=3,\n",
        "                 dim_feedforward=2048, dropout=0.1, max_len=500):\n",
        "        super().__init__()\n",
        "        self.model_type = 'Transformer'\n",
        "        self.d_model = d_model\n",
        "        self.embedding = nn.Embedding(vocab_size, d_model, padding_idx=0)\n",
        "        self.pos_encoder = PositionalEncoding(d_model, max_len)\n",
        "        self.transformer = nn.Transformer(\n",
        "            d_model=d_model, nhead=nhead,\n",
        "            num_encoder_layers=num_encoder_layers,\n",
        "            num_decoder_layers=num_decoder_layers,\n",
        "            dim_feedforward=dim_feedforward,\n",
        "            dropout=dropout,\n",
        "            batch_first=True,\n",
        "        )\n",
        "        self.fc_out = nn.Linear(d_model, vocab_size)\n",
        "\n",
        "    def forward(self, src, tgt, src_key_padding_mask, tgt_key_padding_mask, memory_key_padding_mask):\n",
        "        # src/tgt: (B, S) long\n",
        "        src_emb = self.pos_encoder(self.embedding(src) * math.sqrt(self.d_model))\n",
        "        tgt_emb = self.pos_encoder(self.embedding(tgt) * math.sqrt(self.d_model))\n",
        "        tgt_mask = generate_square_subsequent_mask(tgt_emb.size(1)).to(src.device)\n",
        "        out = self.transformer(\n",
        "            src_emb, tgt_emb,\n",
        "            tgt_mask=tgt_mask,\n",
        "            src_key_padding_mask=src_key_padding_mask,\n",
        "            tgt_key_padding_mask=tgt_key_padding_mask,\n",
        "            memory_key_padding_mask=memory_key_padding_mask\n",
        "        )\n",
        "        return self.fc_out(out)  # (B, T, vocab_size)\n"
      ],
      "metadata": {
        "id": "VKSKkNj35CKR"
      },
      "execution_count": 9,
      "outputs": []
    },
    {
      "cell_type": "code",
      "source": [
        "def create_padding_mask(seq):\n",
        "    # seq: (B, L), pad=0 → True where padding\n",
        "    return (seq == 0)\n",
        "\n",
        "criterion = nn.CrossEntropyLoss(ignore_index=token2idx['<PAD>'])\n",
        "\n",
        "def train_epoch(model, loader, optimizer):\n",
        "    model.train()\n",
        "    total_loss = 0\n",
        "    for src, src_lens, tgt, tgt_lens in tqdm(loader, desc=\"Train\"):\n",
        "        src, tgt = src.to(device), tgt.to(device)\n",
        "        src_pad = create_padding_mask(src).to(device)\n",
        "        tgt_pad = create_padding_mask(tgt).to(device)\n",
        "\n",
        "        optimizer.zero_grad()\n",
        "        # 입력/출력 모두 <SOS>...<EOS> 포함\n",
        "        output = model(src, tgt[:, :-1], src_pad, tgt_pad[:, :-1], src_pad)\n",
        "        # 예측은 다음 토큰\n",
        "        out_flat = output.reshape(-1, output.size(-1))\n",
        "        tgt_flat = tgt[:, 1:].reshape(-1)\n",
        "        loss = criterion(out_flat, tgt_flat)\n",
        "        loss.backward()\n",
        "        torch.nn.utils.clip_grad_norm_(model.parameters(), 1.0)\n",
        "        optimizer.step()\n",
        "        total_loss += loss.item()\n",
        "    return total_loss / len(loader)\n",
        "\n",
        "@torch.no_grad()\n",
        "def evaluate(model, loader):\n",
        "    model.eval()\n",
        "    total_loss = 0\n",
        "    for src, src_lens, tgt, tgt_lens in tqdm(loader, desc=\"Val\"):\n",
        "        src, tgt = src.to(device), tgt.to(device)\n",
        "        src_pad = create_padding_mask(src).to(device)\n",
        "        tgt_pad = create_padding_mask(tgt).to(device)\n",
        "\n",
        "        output = model(src, tgt[:, :-1], src_pad, tgt_pad[:, :-1], src_pad)\n",
        "        out_flat = output.reshape(-1, output.size(-1))\n",
        "        tgt_flat = tgt[:, 1:].reshape(-1)\n",
        "        loss = criterion(out_flat, tgt_flat)\n",
        "        total_loss += loss.item()\n",
        "    return total_loss / len(loader)\n"
      ],
      "metadata": {
        "id": "RG9MqZwH53pU"
      },
      "execution_count": 10,
      "outputs": []
    },
    {
      "cell_type": "code",
      "source": [
        "# 하이퍼파라미터\n",
        "D_MODEL = 256\n",
        "NHEAD = 8\n",
        "ENC_LAYERS = 3\n",
        "DEC_LAYERS = 3\n",
        "FFN_HID = 512\n",
        "DROPOUT = 0.1\n",
        "NUM_EPOCHS = 30\n",
        "LR = 1e-4\n",
        "\n",
        "model = TransformerSeq2Seq(\n",
        "    vocab_size=vocab_size,\n",
        "    d_model=D_MODEL,\n",
        "    nhead=NHEAD,\n",
        "    num_encoder_layers=ENC_LAYERS,\n",
        "    num_decoder_layers=DEC_LAYERS,\n",
        "    dim_feedforward=FFN_HID,\n",
        "    dropout=DROPOUT,\n",
        "    max_len=100\n",
        ").to(device)\n",
        "\n",
        "optimizer = optim.Adam(model.parameters(), lr=LR)\n",
        "print(model)\n"
      ],
      "metadata": {
        "colab": {
          "base_uri": "https://localhost:8080/"
        },
        "id": "UoXsJfRx55hM",
        "outputId": "2d7b57a0-002d-4f35-8ccb-7d90ac658aa9"
      },
      "execution_count": 11,
      "outputs": [
        {
          "output_type": "stream",
          "name": "stdout",
          "text": [
            "TransformerSeq2Seq(\n",
            "  (embedding): Embedding(716, 256, padding_idx=0)\n",
            "  (pos_encoder): PositionalEncoding()\n",
            "  (transformer): Transformer(\n",
            "    (encoder): TransformerEncoder(\n",
            "      (layers): ModuleList(\n",
            "        (0-2): 3 x TransformerEncoderLayer(\n",
            "          (self_attn): MultiheadAttention(\n",
            "            (out_proj): NonDynamicallyQuantizableLinear(in_features=256, out_features=256, bias=True)\n",
            "          )\n",
            "          (linear1): Linear(in_features=256, out_features=512, bias=True)\n",
            "          (dropout): Dropout(p=0.1, inplace=False)\n",
            "          (linear2): Linear(in_features=512, out_features=256, bias=True)\n",
            "          (norm1): LayerNorm((256,), eps=1e-05, elementwise_affine=True)\n",
            "          (norm2): LayerNorm((256,), eps=1e-05, elementwise_affine=True)\n",
            "          (dropout1): Dropout(p=0.1, inplace=False)\n",
            "          (dropout2): Dropout(p=0.1, inplace=False)\n",
            "        )\n",
            "      )\n",
            "      (norm): LayerNorm((256,), eps=1e-05, elementwise_affine=True)\n",
            "    )\n",
            "    (decoder): TransformerDecoder(\n",
            "      (layers): ModuleList(\n",
            "        (0-2): 3 x TransformerDecoderLayer(\n",
            "          (self_attn): MultiheadAttention(\n",
            "            (out_proj): NonDynamicallyQuantizableLinear(in_features=256, out_features=256, bias=True)\n",
            "          )\n",
            "          (multihead_attn): MultiheadAttention(\n",
            "            (out_proj): NonDynamicallyQuantizableLinear(in_features=256, out_features=256, bias=True)\n",
            "          )\n",
            "          (linear1): Linear(in_features=256, out_features=512, bias=True)\n",
            "          (dropout): Dropout(p=0.1, inplace=False)\n",
            "          (linear2): Linear(in_features=512, out_features=256, bias=True)\n",
            "          (norm1): LayerNorm((256,), eps=1e-05, elementwise_affine=True)\n",
            "          (norm2): LayerNorm((256,), eps=1e-05, elementwise_affine=True)\n",
            "          (norm3): LayerNorm((256,), eps=1e-05, elementwise_affine=True)\n",
            "          (dropout1): Dropout(p=0.1, inplace=False)\n",
            "          (dropout2): Dropout(p=0.1, inplace=False)\n",
            "          (dropout3): Dropout(p=0.1, inplace=False)\n",
            "        )\n",
            "      )\n",
            "      (norm): LayerNorm((256,), eps=1e-05, elementwise_affine=True)\n",
            "    )\n",
            "  )\n",
            "  (fc_out): Linear(in_features=256, out_features=716, bias=True)\n",
            ")\n"
          ]
        }
      ]
    },
    {
      "cell_type": "code",
      "source": [
        "train_losses, val_losses = [], []\n",
        "\n",
        "for epoch in range(1, NUM_EPOCHS+1):\n",
        "    print(f\"\\n=== Epoch {epoch}/{NUM_EPOCHS} ===\")\n",
        "    tr_loss = train_epoch(model, train_loader, optimizer)\n",
        "    va_loss = evaluate(model, val_loader)\n",
        "    train_losses.append(tr_loss)\n",
        "    val_losses.append(va_loss)\n",
        "    print(f\"Train Loss: {tr_loss:.4f} | Val Loss: {va_loss:.4f}\")\n",
        "\n",
        "# 모델 저장\n",
        "torch.save(model.state_dict(), 'transformer_maze_model.pt')\n",
        "print(\"Saved transformer_maze_model.pt\")\n"
      ],
      "metadata": {
        "colab": {
          "base_uri": "https://localhost:8080/"
        },
        "id": "NafLPVF457eK",
        "outputId": "ea76ce62-b293-4640-d08e-886e526211b2"
      },
      "execution_count": 12,
      "outputs": [
        {
          "output_type": "stream",
          "name": "stdout",
          "text": [
            "\n",
            "=== Epoch 1/30 ===\n"
          ]
        },
        {
          "output_type": "stream",
          "name": "stderr",
          "text": [
            "Train: 100%|██████████| 6647/6647 [05:23<00:00, 20.54it/s]\n",
            "Val:   0%|          | 0/739 [00:00<?, ?it/s]/usr/local/lib/python3.11/dist-packages/torch/nn/modules/transformer.py:508: UserWarning: The PyTorch API of nested tensors is in prototype stage and will change in the near future. We recommend specifying layout=torch.jagged when constructing a nested tensor, as this layout receives active development, has better operator coverage, and works with torch.compile. (Triggered internally at /pytorch/aten/src/ATen/NestedTensorImpl.cpp:178.)\n",
            "  output = torch._nested_tensor_from_mask(\n",
            "Val: 100%|██████████| 739/739 [00:11<00:00, 64.01it/s]\n"
          ]
        },
        {
          "output_type": "stream",
          "name": "stdout",
          "text": [
            "Train Loss: 0.3413 | Val Loss: 0.1045\n",
            "\n",
            "=== Epoch 2/30 ===\n"
          ]
        },
        {
          "output_type": "stream",
          "name": "stderr",
          "text": [
            "Train: 100%|██████████| 6647/6647 [05:22<00:00, 20.59it/s]\n",
            "Val: 100%|██████████| 739/739 [00:11<00:00, 64.20it/s]\n"
          ]
        },
        {
          "output_type": "stream",
          "name": "stdout",
          "text": [
            "Train Loss: 0.1081 | Val Loss: 0.0529\n",
            "\n",
            "=== Epoch 3/30 ===\n"
          ]
        },
        {
          "output_type": "stream",
          "name": "stderr",
          "text": [
            "Train: 100%|██████████| 6647/6647 [05:22<00:00, 20.61it/s]\n",
            "Val: 100%|██████████| 739/739 [00:11<00:00, 64.56it/s]\n"
          ]
        },
        {
          "output_type": "stream",
          "name": "stdout",
          "text": [
            "Train Loss: 0.0702 | Val Loss: 0.0382\n",
            "\n",
            "=== Epoch 4/30 ===\n"
          ]
        },
        {
          "output_type": "stream",
          "name": "stderr",
          "text": [
            "Train: 100%|██████████| 6647/6647 [05:22<00:00, 20.62it/s]\n",
            "Val: 100%|██████████| 739/739 [00:11<00:00, 64.45it/s]\n"
          ]
        },
        {
          "output_type": "stream",
          "name": "stdout",
          "text": [
            "Train Loss: 0.0546 | Val Loss: 0.0326\n",
            "\n",
            "=== Epoch 5/30 ===\n"
          ]
        },
        {
          "output_type": "stream",
          "name": "stderr",
          "text": [
            "Train: 100%|██████████| 6647/6647 [05:21<00:00, 20.65it/s]\n",
            "Val: 100%|██████████| 739/739 [00:11<00:00, 64.48it/s]\n"
          ]
        },
        {
          "output_type": "stream",
          "name": "stdout",
          "text": [
            "Train Loss: 0.0461 | Val Loss: 0.0291\n",
            "\n",
            "=== Epoch 6/30 ===\n"
          ]
        },
        {
          "output_type": "stream",
          "name": "stderr",
          "text": [
            "Train: 100%|██████████| 6647/6647 [05:23<00:00, 20.54it/s]\n",
            "Val: 100%|██████████| 739/739 [00:11<00:00, 63.99it/s]\n"
          ]
        },
        {
          "output_type": "stream",
          "name": "stdout",
          "text": [
            "Train Loss: 0.0405 | Val Loss: 0.0260\n",
            "\n",
            "=== Epoch 7/30 ===\n"
          ]
        },
        {
          "output_type": "stream",
          "name": "stderr",
          "text": [
            "Train: 100%|██████████| 6647/6647 [05:23<00:00, 20.55it/s]\n",
            "Val: 100%|██████████| 739/739 [00:11<00:00, 64.30it/s]\n"
          ]
        },
        {
          "output_type": "stream",
          "name": "stdout",
          "text": [
            "Train Loss: 0.0364 | Val Loss: 0.0230\n",
            "\n",
            "=== Epoch 8/30 ===\n"
          ]
        },
        {
          "output_type": "stream",
          "name": "stderr",
          "text": [
            "Train: 100%|██████████| 6647/6647 [05:22<00:00, 20.64it/s]\n",
            "Val: 100%|██████████| 739/739 [00:11<00:00, 64.44it/s]\n"
          ]
        },
        {
          "output_type": "stream",
          "name": "stdout",
          "text": [
            "Train Loss: 0.0315 | Val Loss: 0.0150\n",
            "\n",
            "=== Epoch 9/30 ===\n"
          ]
        },
        {
          "output_type": "stream",
          "name": "stderr",
          "text": [
            "Train: 100%|██████████| 6647/6647 [05:22<00:00, 20.60it/s]\n",
            "Val: 100%|██████████| 739/739 [00:11<00:00, 64.45it/s]\n"
          ]
        },
        {
          "output_type": "stream",
          "name": "stdout",
          "text": [
            "Train Loss: 0.0236 | Val Loss: 0.0068\n",
            "\n",
            "=== Epoch 10/30 ===\n"
          ]
        },
        {
          "output_type": "stream",
          "name": "stderr",
          "text": [
            "Train: 100%|██████████| 6647/6647 [05:22<00:00, 20.63it/s]\n",
            "Val: 100%|██████████| 739/739 [00:11<00:00, 64.57it/s]\n"
          ]
        },
        {
          "output_type": "stream",
          "name": "stdout",
          "text": [
            "Train Loss: 0.0173 | Val Loss: 0.0050\n",
            "\n",
            "=== Epoch 11/30 ===\n"
          ]
        },
        {
          "output_type": "stream",
          "name": "stderr",
          "text": [
            "Train: 100%|██████████| 6647/6647 [05:21<00:00, 20.66it/s]\n",
            "Val: 100%|██████████| 739/739 [00:11<00:00, 64.56it/s]\n"
          ]
        },
        {
          "output_type": "stream",
          "name": "stdout",
          "text": [
            "Train Loss: 0.0136 | Val Loss: 0.0039\n",
            "\n",
            "=== Epoch 12/30 ===\n"
          ]
        },
        {
          "output_type": "stream",
          "name": "stderr",
          "text": [
            "Train: 100%|██████████| 6647/6647 [05:23<00:00, 20.56it/s]\n",
            "Val: 100%|██████████| 739/739 [00:11<00:00, 63.89it/s]\n"
          ]
        },
        {
          "output_type": "stream",
          "name": "stdout",
          "text": [
            "Train Loss: 0.0113 | Val Loss: 0.0038\n",
            "\n",
            "=== Epoch 13/30 ===\n"
          ]
        },
        {
          "output_type": "stream",
          "name": "stderr",
          "text": [
            "Train: 100%|██████████| 6647/6647 [05:22<00:00, 20.59it/s]\n",
            "Val: 100%|██████████| 739/739 [00:11<00:00, 64.62it/s]\n"
          ]
        },
        {
          "output_type": "stream",
          "name": "stdout",
          "text": [
            "Train Loss: 0.0097 | Val Loss: 0.0035\n",
            "\n",
            "=== Epoch 14/30 ===\n"
          ]
        },
        {
          "output_type": "stream",
          "name": "stderr",
          "text": [
            "Train: 100%|██████████| 6647/6647 [05:22<00:00, 20.60it/s]\n",
            "Val: 100%|██████████| 739/739 [00:11<00:00, 64.79it/s]\n"
          ]
        },
        {
          "output_type": "stream",
          "name": "stdout",
          "text": [
            "Train Loss: 0.0087 | Val Loss: 0.0032\n",
            "\n",
            "=== Epoch 15/30 ===\n"
          ]
        },
        {
          "output_type": "stream",
          "name": "stderr",
          "text": [
            "Train: 100%|██████████| 6647/6647 [05:22<00:00, 20.61it/s]\n",
            "Val: 100%|██████████| 739/739 [00:11<00:00, 64.07it/s]\n"
          ]
        },
        {
          "output_type": "stream",
          "name": "stdout",
          "text": [
            "Train Loss: 0.0080 | Val Loss: 0.0028\n",
            "\n",
            "=== Epoch 16/30 ===\n"
          ]
        },
        {
          "output_type": "stream",
          "name": "stderr",
          "text": [
            "Train: 100%|██████████| 6647/6647 [05:22<00:00, 20.64it/s]\n",
            "Val: 100%|██████████| 739/739 [00:11<00:00, 64.52it/s]\n"
          ]
        },
        {
          "output_type": "stream",
          "name": "stdout",
          "text": [
            "Train Loss: 0.0073 | Val Loss: 0.0028\n",
            "\n",
            "=== Epoch 17/30 ===\n"
          ]
        },
        {
          "output_type": "stream",
          "name": "stderr",
          "text": [
            "Train: 100%|██████████| 6647/6647 [05:21<00:00, 20.67it/s]\n",
            "Val: 100%|██████████| 739/739 [00:11<00:00, 64.77it/s]\n"
          ]
        },
        {
          "output_type": "stream",
          "name": "stdout",
          "text": [
            "Train Loss: 0.0068 | Val Loss: 0.0024\n",
            "\n",
            "=== Epoch 18/30 ===\n"
          ]
        },
        {
          "output_type": "stream",
          "name": "stderr",
          "text": [
            "Train: 100%|██████████| 6647/6647 [05:21<00:00, 20.67it/s]\n",
            "Val: 100%|██████████| 739/739 [00:11<00:00, 64.58it/s]\n"
          ]
        },
        {
          "output_type": "stream",
          "name": "stdout",
          "text": [
            "Train Loss: 0.0063 | Val Loss: 0.0024\n",
            "\n",
            "=== Epoch 19/30 ===\n"
          ]
        },
        {
          "output_type": "stream",
          "name": "stderr",
          "text": [
            "Train: 100%|██████████| 6647/6647 [05:21<00:00, 20.65it/s]\n",
            "Val: 100%|██████████| 739/739 [00:11<00:00, 64.91it/s]\n"
          ]
        },
        {
          "output_type": "stream",
          "name": "stdout",
          "text": [
            "Train Loss: 0.0060 | Val Loss: 0.0031\n",
            "\n",
            "=== Epoch 20/30 ===\n"
          ]
        },
        {
          "output_type": "stream",
          "name": "stderr",
          "text": [
            "Train: 100%|██████████| 6647/6647 [05:21<00:00, 20.64it/s]\n",
            "Val: 100%|██████████| 739/739 [00:11<00:00, 64.00it/s]\n"
          ]
        },
        {
          "output_type": "stream",
          "name": "stdout",
          "text": [
            "Train Loss: 0.0057 | Val Loss: 0.0021\n",
            "\n",
            "=== Epoch 21/30 ===\n"
          ]
        },
        {
          "output_type": "stream",
          "name": "stderr",
          "text": [
            "Train: 100%|██████████| 6647/6647 [05:22<00:00, 20.59it/s]\n",
            "Val: 100%|██████████| 739/739 [00:11<00:00, 64.31it/s]\n"
          ]
        },
        {
          "output_type": "stream",
          "name": "stdout",
          "text": [
            "Train Loss: 0.0055 | Val Loss: 0.0023\n",
            "\n",
            "=== Epoch 22/30 ===\n"
          ]
        },
        {
          "output_type": "stream",
          "name": "stderr",
          "text": [
            "Train: 100%|██████████| 6647/6647 [05:22<00:00, 20.62it/s]\n",
            "Val: 100%|██████████| 739/739 [00:11<00:00, 64.65it/s]\n"
          ]
        },
        {
          "output_type": "stream",
          "name": "stdout",
          "text": [
            "Train Loss: 0.0052 | Val Loss: 0.0020\n",
            "\n",
            "=== Epoch 23/30 ===\n"
          ]
        },
        {
          "output_type": "stream",
          "name": "stderr",
          "text": [
            "Train: 100%|██████████| 6647/6647 [05:21<00:00, 20.65it/s]\n",
            "Val: 100%|██████████| 739/739 [00:11<00:00, 63.98it/s]\n"
          ]
        },
        {
          "output_type": "stream",
          "name": "stdout",
          "text": [
            "Train Loss: 0.0051 | Val Loss: 0.0020\n",
            "\n",
            "=== Epoch 24/30 ===\n"
          ]
        },
        {
          "output_type": "stream",
          "name": "stderr",
          "text": [
            "Train: 100%|██████████| 6647/6647 [05:22<00:00, 20.60it/s]\n",
            "Val: 100%|██████████| 739/739 [00:11<00:00, 64.98it/s]\n"
          ]
        },
        {
          "output_type": "stream",
          "name": "stdout",
          "text": [
            "Train Loss: 0.0048 | Val Loss: 0.0018\n",
            "\n",
            "=== Epoch 25/30 ===\n"
          ]
        },
        {
          "output_type": "stream",
          "name": "stderr",
          "text": [
            "Train: 100%|██████████| 6647/6647 [05:21<00:00, 20.68it/s]\n",
            "Val: 100%|██████████| 739/739 [00:11<00:00, 64.53it/s]\n"
          ]
        },
        {
          "output_type": "stream",
          "name": "stdout",
          "text": [
            "Train Loss: 0.0046 | Val Loss: 0.0019\n",
            "\n",
            "=== Epoch 26/30 ===\n"
          ]
        },
        {
          "output_type": "stream",
          "name": "stderr",
          "text": [
            "Train: 100%|██████████| 6647/6647 [05:21<00:00, 20.68it/s]\n",
            "Val: 100%|██████████| 739/739 [00:11<00:00, 64.49it/s]\n"
          ]
        },
        {
          "output_type": "stream",
          "name": "stdout",
          "text": [
            "Train Loss: 0.0044 | Val Loss: 0.0018\n",
            "\n",
            "=== Epoch 27/30 ===\n"
          ]
        },
        {
          "output_type": "stream",
          "name": "stderr",
          "text": [
            "Train: 100%|██████████| 6647/6647 [05:23<00:00, 20.56it/s]\n",
            "Val: 100%|██████████| 739/739 [00:11<00:00, 63.05it/s]\n"
          ]
        },
        {
          "output_type": "stream",
          "name": "stdout",
          "text": [
            "Train Loss: 0.0043 | Val Loss: 0.0017\n",
            "\n",
            "=== Epoch 28/30 ===\n"
          ]
        },
        {
          "output_type": "stream",
          "name": "stderr",
          "text": [
            "Train: 100%|██████████| 6647/6647 [05:23<00:00, 20.55it/s]\n",
            "Val: 100%|██████████| 739/739 [00:11<00:00, 64.59it/s]\n"
          ]
        },
        {
          "output_type": "stream",
          "name": "stdout",
          "text": [
            "Train Loss: 0.0042 | Val Loss: 0.0017\n",
            "\n",
            "=== Epoch 29/30 ===\n"
          ]
        },
        {
          "output_type": "stream",
          "name": "stderr",
          "text": [
            "Train: 100%|██████████| 6647/6647 [05:21<00:00, 20.67it/s]\n",
            "Val: 100%|██████████| 739/739 [00:11<00:00, 65.00it/s]\n"
          ]
        },
        {
          "output_type": "stream",
          "name": "stdout",
          "text": [
            "Train Loss: 0.0041 | Val Loss: 0.0018\n",
            "\n",
            "=== Epoch 30/30 ===\n"
          ]
        },
        {
          "output_type": "stream",
          "name": "stderr",
          "text": [
            "Train: 100%|██████████| 6647/6647 [05:21<00:00, 20.68it/s]\n",
            "Val: 100%|██████████| 739/739 [00:11<00:00, 64.32it/s]\n"
          ]
        },
        {
          "output_type": "stream",
          "name": "stdout",
          "text": [
            "Train Loss: 0.0040 | Val Loss: 0.0016\n",
            "Saved transformer_maze_model.pt\n"
          ]
        }
      ]
    },
    {
      "cell_type": "code",
      "source": [
        "import matplotlib.pyplot as plt\n",
        "\n",
        "plt.figure(figsize=(8,4))\n",
        "plt.plot(range(1, NUM_EPOCHS+1), train_losses, label='Train Loss')\n",
        "plt.plot(range(1, NUM_EPOCHS+1), val_losses,   label='Val Loss')\n",
        "plt.xlabel('Epoch')\n",
        "plt.ylabel('Loss')\n",
        "plt.legend()\n",
        "plt.title('Training vs Validation Loss')\n",
        "plt.show()\n"
      ],
      "metadata": {
        "colab": {
          "base_uri": "https://localhost:8080/",
          "height": 370
        },
        "id": "N_5uLn_S58n8",
        "outputId": "22de7893-71f0-4454-f3b2-a575c20cafa3"
      },
      "execution_count": 13,
      "outputs": [
        {
          "output_type": "display_data",
          "data": {
            "text/plain": [
              "<Figure size 800x400 with 1 Axes>"
            ],
            "image/png": "[encoded data removed]"
          },
          "metadata": {}
        }
      ]
    },
    {
      "cell_type": "code",
      "source": [
        "# token2idx/json 저장/로드가 필요하면 Colab에 맞게 추가하세요.\n",
        "idx2token = {idx:tok for tok,idx in token2idx.items()}\n",
        "\n",
        "@torch.no_grad()\n",
        "def infer_sequence(start_str, end_str, max_len=50):\n",
        "    if start_str not in token2idx or end_str not in token2idx:\n",
        "        raise ValueError(\"Unknown token(s).\")\n",
        "    sos, eos = token2idx['<SOS>'], token2idx['<EOS>']\n",
        "    src_idxs = [sos, token2idx[start_str], token2idx[end_str], eos]\n",
        "    src = torch.tensor([src_idxs], device=device)\n",
        "    src_pad = create_padding_mask(src).to(device)\n",
        "\n",
        "    # 디코더 입력 초기화\n",
        "    ys = torch.tensor([[sos]], device=device)\n",
        "    for i in range(max_len):\n",
        "        tgt_pad = create_padding_mask(ys).to(device)\n",
        "        out = model(src, ys, src_pad, tgt_pad, src_pad)  # (1, t, V)\n",
        "        prob = out[:, -1, :].argmax(dim=-1)  # (1,)\n",
        "        next_tok = prob.item()\n",
        "        ys = torch.cat([ys, prob.unsqueeze(0)], dim=1)\n",
        "        if next_tok == eos:\n",
        "            break\n",
        "\n",
        "    res = [idx2token[idx] for idx in ys.squeeze().tolist()[1:-1]]  # <SOS>, <EOS> 제외\n",
        "    return res\n",
        "\n",
        "# 테스트\n",
        "print(\"Example:\", infer_sequence('27117', '25112'))\n"
      ],
      "metadata": {
        "colab": {
          "base_uri": "https://localhost:8080/"
        },
        "id": "6Uc-FILX5-li",
        "outputId": "5ca8bcf7-6cae-4e8a-88e8-a2b4caa51959"
      },
      "execution_count": 14,
      "outputs": [
        {
          "output_type": "stream",
          "name": "stdout",
          "text": [
            "Example: ['D=5', 'TYPE=Corridor', 'TURN_RIGHT', 'D=5', 'TYPE=Corridor', 'TURN_LEFT', 'D=5', 'TYPE=Door', 'D=50', 'TYPE=Outside', 'D=25', 'TYPE=Door', 'D=5', 'TYPE=Corridor', 'TURN_LEFT', 'D=25', 'TYPE=Corridor', 'TURN_LEFT', 'D=5', 'TYPE=Room', 'END']\n"
          ]
        }
      ]
    },
    {
      "cell_type": "code",
      "source": [
        "from collections import defaultdict\n",
        "import matplotlib.pyplot as plt\n",
        "from tqdm import tqdm\n",
        "\n",
        "# 1) 길이별 [맞힌_시퀀스수, 전체_시퀀스수] 저장\n",
        "length_stats = defaultdict(lambda: [0, 0])\n",
        "\n",
        "model.eval()\n",
        "with torch.no_grad():\n",
        "    for src, src_lens, tgt, tgt_lens in tqdm(val_loader, desc=\"Val exact-match\"):\n",
        "        src, tgt = src.to(device), tgt.to(device)\n",
        "        src_pad = create_padding_mask(src).to(device)\n",
        "\n",
        "        # 디코더 입력: <SOS> + 실제 토큰들, 마지막 <EOS> 제외\n",
        "        dec_input = tgt[:, :-1]\n",
        "        dec_pad   = create_padding_mask(dec_input).to(device)\n",
        "\n",
        "        # 예측\n",
        "        out   = model(src, dec_input, src_pad, dec_pad, src_pad)  # (B, T_dec, V)\n",
        "        preds = out.argmax(dim=-1)                               # (B, T_dec)\n",
        "\n",
        "        B = src.size(0)\n",
        "        for i in range(B):\n",
        "            L = tgt_lens[i].item() - 2            # <SOS>,<EOS> 제외한 토큰 개수\n",
        "            true_seq = tgt[i, 1:1+L].tolist()     # positions 1..L\n",
        "            pred_seq = preds[i, :L].tolist()      # positions 0..L-1\n",
        "\n",
        "            length_stats[L][1] += 1\n",
        "            if true_seq == pred_seq:\n",
        "                length_stats[L][0] += 1\n",
        "\n",
        "# 2) 결과 정리\n",
        "lengths = sorted(length_stats)\n",
        "exact_acc = [length_stats[L][0] / length_stats[L][1] * 100 for L in lengths]  # % 단위\n",
        "\n",
        "print(\"=== Length-wise Exact Sequence Match Accuracy ===\")\n",
        "for L, acc in zip(lengths, exact_acc):\n",
        "    print(f\"Length {L:2d}: {length_stats[L][0]:4d}/{length_stats[L][1]:4d} = {acc:5.2f}%\")\n",
        "\n",
        "# 3) 막대그래프 그리기\n",
        "plt.figure(figsize=(10,5))\n",
        "plt.bar(lengths, exact_acc, width=0.8)\n",
        "plt.xlabel(\"Sequence Length\")\n",
        "plt.ylabel(\"Exact Match Accuracy (%)\")\n",
        "plt.title(\"Length-wise Exact Sequence Match on Validation Set\")\n",
        "plt.ylim(0, 100)    # y축 최솟값을 0으로 고정\n",
        "plt.show()\n",
        "\n",
        "# 4) 전체 정확도 계산\n",
        "total_correct   = sum(cnts[0] for cnts in length_stats.values())\n",
        "total_sequences = sum(cnts[1] for cnts in length_stats.values())\n",
        "overall_acc     = total_correct / total_sequences * 100\n",
        "\n",
        "print(f\"\\nOverall Exact Match Accuracy: {total_correct}/{total_sequences} = {overall_acc:.2f}%\")\n"
      ],
      "metadata": {
        "colab": {
          "base_uri": "https://localhost:8080/",
          "height": 1000
        },
        "id": "ls0juiWZnbTu",
        "outputId": "f9c6fa10-7953-4810-f3f3-6fa0f4c70649"
      },
      "execution_count": 20,
      "outputs": [
        {
          "output_type": "stream",
          "name": "stderr",
          "text": [
            "Val exact-match: 100%|██████████| 739/739 [00:14<00:00, 51.56it/s]\n"
          ]
        },
        {
          "output_type": "stream",
          "name": "stdout",
          "text": [
            "=== Length-wise Exact Sequence Match Accuracy ===\n",
            "Length  5:    0/   1 =  0.00%\n",
            "Length  6:    1/  45 =  2.22%\n",
            "Length  9: 1103/1442 = 76.49%\n",
            "Length 11:   21/  23 = 91.30%\n",
            "Length 12: 1624/1667 = 97.42%\n",
            "Length 13:    6/   6 = 100.00%\n",
            "Length 14:   32/  33 = 96.97%\n",
            "Length 15:  504/ 533 = 94.56%\n",
            "Length 16:  224/ 224 = 100.00%\n",
            "Length 17:   10/  10 = 100.00%\n",
            "Length 18:  388/ 389 = 99.74%\n",
            "Length 19: 2020/2085 = 96.88%\n",
            "Length 20:  126/ 128 = 98.44%\n",
            "Length 21: 1665/1703 = 97.77%\n",
            "Length 22: 2740/2811 = 97.47%\n",
            "Length 23: 1057/1075 = 98.33%\n",
            "Length 24: 1869/1917 = 97.50%\n",
            "Length 25: 1487/1566 = 94.96%\n",
            "Length 26: 1386/1410 = 98.30%\n",
            "Length 27:  808/ 855 = 94.50%\n",
            "Length 28: 1078/1117 = 96.51%\n",
            "Length 29:  659/ 697 = 94.55%\n",
            "Length 30:  569/ 572 = 99.48%\n",
            "Length 31:  559/ 566 = 98.76%\n",
            "Length 32:  346/ 346 = 100.00%\n",
            "Length 33:  362/ 363 = 99.72%\n",
            "Length 34:  230/ 231 = 99.57%\n",
            "Length 35:  373/ 374 = 99.73%\n",
            "Length 36:  309/ 311 = 99.36%\n",
            "Length 37:  510/ 518 = 98.46%\n",
            "Length 38:  492/ 512 = 96.09%\n",
            "Length 39:  665/ 670 = 99.25%\n",
            "Length 40:  704/ 718 = 98.05%\n",
            "Length 41:  509/ 509 = 100.00%\n",
            "Length 42:  618/ 637 = 97.02%\n",
            "Length 43:  422/ 423 = 99.76%\n",
            "Length 44:  548/ 571 = 95.97%\n",
            "Length 45:  473/ 473 = 100.00%\n",
            "Length 46:  720/ 727 = 99.04%\n",
            "Length 47:  619/ 622 = 99.52%\n",
            "Length 48:  468/ 472 = 99.15%\n",
            "Length 49:  799/ 810 = 98.64%\n",
            "Length 50:  761/ 792 = 96.09%\n",
            "Length 51: 1138/1143 = 99.56%\n",
            "Length 52:  982/1002 = 98.00%\n",
            "Length 53: 1038/1047 = 99.14%\n",
            "Length 54:  868/ 869 = 99.88%\n",
            "Length 55:  811/ 811 = 100.00%\n",
            "Length 56: 1003/1008 = 99.50%\n",
            "Length 57:  710/ 721 = 98.47%\n",
            "Length 58:  592/ 593 = 99.83%\n",
            "Length 59:  488/ 488 = 100.00%\n",
            "Length 60:  378/ 378 = 100.00%\n",
            "Length 61:  405/ 405 = 100.00%\n",
            "Length 62:  507/ 521 = 97.31%\n",
            "Length 63:  564/ 570 = 98.95%\n",
            "Length 64:  498/ 523 = 95.22%\n",
            "Length 65:  580/ 585 = 99.15%\n",
            "Length 66:  641/ 642 = 99.84%\n",
            "Length 67:  673/ 694 = 96.97%\n",
            "Length 68:  696/ 696 = 100.00%\n",
            "Length 69:  604/ 612 = 98.69%\n",
            "Length 70:  683/ 683 = 100.00%\n",
            "Length 71:  454/ 459 = 98.91%\n",
            "Length 72:  483/ 483 = 100.00%\n",
            "Length 73:  366/ 372 = 98.39%\n",
            "Length 74:  324/ 324 = 100.00%\n",
            "Length 75:  178/ 178 = 100.00%\n",
            "Length 76:  205/ 205 = 100.00%\n",
            "Length 77:   89/  89 = 100.00%\n",
            "Length 78:   97/  97 = 100.00%\n",
            "Length 79:   53/  53 = 100.00%\n",
            "Length 80:   44/  44 = 100.00%\n",
            "Length 81:    5/   5 = 100.00%\n",
            "Length 82:   12/  12 = 100.00%\n"
          ]
        },
        {
          "output_type": "display_data",
          "data": {
            "text/plain": [
              "<Figure size 1000x500 with 1 Axes>"
            ],
            "image/png": "[encoded data removed]"
          },
          "metadata": {}
        },
        {
          "output_type": "stream",
          "name": "stdout",
          "text": [
            "\n",
            "Overall Exact Match Accuracy: 46033/47266 = 97.39%\n"
          ]
        }
      ]
    }
  ]
}