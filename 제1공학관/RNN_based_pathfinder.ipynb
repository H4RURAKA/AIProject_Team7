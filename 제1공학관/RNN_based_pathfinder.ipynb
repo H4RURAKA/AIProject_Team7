{
  "nbformat": 4,
  "nbformat_minor": 0,
  "metadata": {
    "colab": {
      "provenance": [],
      "gpuType": "T4"
    },
    "kernelspec": {
      "name": "python3",
      "display_name": "Python 3"
    },
    "language_info": {
      "name": "python"
    },
    "accelerator": "GPU"
  },
  "cells": [
    {
      "cell_type": "code",
      "source": [
        "#================================================================================\n",
        "# 1) Colab 셀 1: 필수 라이브러리 설치 / 불러오기\n",
        "#================================================================================\n",
        "import os\n",
        "import random\n",
        "import math\n",
        "from tqdm import tqdm\n",
        "\n",
        "import torch\n",
        "import torch.nn as nn\n",
        "from torch.utils.data import Dataset, DataLoader, random_split\n",
        "\n",
        "# GPU 사용 여부 확인\n",
        "device = torch.device('cuda' if torch.cuda.is_available() else 'cpu')\n",
        "print(\"Using device:\", device)"
      ],
      "metadata": {
        "colab": {
          "base_uri": "https://localhost:8080/"
        },
        "id": "d1M6c1WvNGbe",
        "outputId": "8b9b8cf4-f3e1-41d8-914e-11d190525019"
      },
      "execution_count": 61,
      "outputs": [
        {
          "output_type": "stream",
          "name": "stdout",
          "text": [
            "Using device: cuda\n"
          ]
        }
      ]
    },
    {
      "cell_type": "code",
      "source": [
        "from google.colab import drive\n",
        "drive.mount('/content/drive')"
      ],
      "metadata": {
        "id": "RQwa4Uu5-ZPd",
        "outputId": "417f1c70-a603-42ec-b1ba-bcd2483f4507",
        "colab": {
          "base_uri": "https://localhost:8080/"
        }
      },
      "execution_count": 62,
      "outputs": [
        {
          "output_type": "stream",
          "name": "stdout",
          "text": [
            "Drive already mounted at /content/drive; to attempt to forcibly remount, call drive.mount(\"/content/drive\", force_remount=True).\n"
          ]
        }
      ]
    },
    {
      "cell_type": "code",
      "source": [
        "#================================================================================\n",
        "# 2) Colab 셀 2: 데이터셋 클래스 정의\n",
        "#================================================================================\n",
        "class MazeSeqDataset(Dataset):\n",
        "    \"\"\"\n",
        "    training_data.txt 한 줄씩을 읽어서\n",
        "    - 입력 (input): [ start_node_id, end_node_id ]  (토큰 인덱스 리스트)\n",
        "    - 출력 (target): [ D=5, TYPE=Corridor, TURN_RIGHT, ..., END ]  (토큰 인덱스 리스트)\n",
        "    \"\"\"\n",
        "    def __init__(self, data_path, token2idx=None, build_vocab=False):\n",
        "        \"\"\"\n",
        "        data_path: 학습 데이터 파일 경로 (training_data.txt)\n",
        "        token2idx: 이미 만들어진 토큰 사전 (input/output 공용)\n",
        "        build_vocab: True이면 파일을 전체 스캔하여 토큰 사전 생성\n",
        "        \"\"\"\n",
        "        self.pairs = []    # (input_tokens, output_tokens)\n",
        "        self.token2idx = token2idx or {}\n",
        "        self.build_vocab = build_vocab\n",
        "\n",
        "        # 토큰을 모을 때 사용되는 임시 집합\n",
        "        self._all_tokens = set()\n",
        "\n",
        "        # 1) raw_data 읽기\n",
        "        with open(data_path, 'r', encoding='utf-8') as f:\n",
        "            lines = [ line.strip() for line in f if line.strip() ]\n",
        "\n",
        "        # 2) 각 줄 파싱\n",
        "        for line in tqdm(lines, desc=\"Parsing data\"):\n",
        "            # 예시: \"1f_1 1f_2 | D=5 TYPE=Corridor TURN_RIGHT D=5 TYPE=Room END\"\n",
        "            sp = line.split('|')\n",
        "            lhs = sp[0].strip()\n",
        "            rhs = sp[1].strip()\n",
        "            start_id, end_id = lhs.split()\n",
        "\n",
        "            input_tokens = [start_id, end_id]\n",
        "            output_tokens = rhs.split()\n",
        "\n",
        "            # build_vocab=True 이면 토큰 집합에 추가\n",
        "            if self.build_vocab:\n",
        "                for tok in input_tokens:\n",
        "                    self._all_tokens.add(tok)\n",
        "                for tok in output_tokens:\n",
        "                    self._all_tokens.add(tok)\n",
        "\n",
        "            self.pairs.append((input_tokens, output_tokens))\n",
        "\n",
        "        # 3) vocab 생성 (build_vocab=True 일 때만)\n",
        "        if self.build_vocab:\n",
        "            # special tokens\n",
        "            specials = ['<PAD>', '<SOS>', '<EOS>']\n",
        "            idx = 0\n",
        "            for sp_tok in specials:\n",
        "                self.token2idx[sp_tok] = idx\n",
        "                idx += 1\n",
        "            # 나머지 토큰\n",
        "            for tok in sorted(self._all_tokens):\n",
        "                if tok not in self.token2idx:\n",
        "                    self.token2idx[tok] = idx\n",
        "                    idx += 1\n",
        "            print(f\"Vocab size: {len(self.token2idx)}\")\n",
        "\n",
        "        # 4) token2idx이 없으면 에러\n",
        "        if not self.token2idx:\n",
        "            raise ValueError(\"token2idx is empty. Pass build_vocab=True at least once.\")\n",
        "\n",
        "        # 5) input/output 인덱스 변환 (idx2token 출력이 필요하면 추후 만들어도 됨)\n",
        "        self.data = []\n",
        "        for (ins, outs) in self.pairs:\n",
        "            # 입력: <SOS> start end <EOS>\n",
        "            in_idx = [ self.token2idx['<SOS>'] ]\n",
        "            in_idx += [ self.token2idx[t] for t in ins ]\n",
        "            in_idx += [ self.token2idx['<EOS>'] ]\n",
        "            # 출력: <SOS> tok1 tok2 ... tokN <EOS>\n",
        "            out_idx = [ self.token2idx['<SOS>'] ]\n",
        "            out_idx += [ self.token2idx[t] for t in outs ]\n",
        "            out_idx += [ self.token2idx['<EOS>'] ]\n",
        "            self.data.append( (in_idx, out_idx) )\n",
        "\n",
        "    def __len__(self):\n",
        "        return len(self.data)\n",
        "\n",
        "    def __getitem__(self, idx):\n",
        "        return self.data[idx]\n",
        "\n",
        "    @staticmethod\n",
        "    def collate_fn(batch):\n",
        "        \"\"\"\n",
        "        batch: [(in_idx_list, out_idx_list), …]\n",
        "        -> 입력, 출력 패딩 처리하여 Tensor(batch_size, max_len)로 반환\n",
        "        \"\"\"\n",
        "        in_seqs, out_seqs = zip(*batch)\n",
        "        in_lens = [len(s) for s in in_seqs]\n",
        "        out_lens = [len(s) for s in out_seqs]\n",
        "\n",
        "        max_in = max(in_lens)\n",
        "        max_out = max(out_lens)\n",
        "\n",
        "        PAD = 0  # '<PAD>' 토큰 인덱스가 0이라고 가정\n",
        "\n",
        "        in_batch = []\n",
        "        for s in in_seqs:\n",
        "            padded = s + [PAD] * (max_in - len(s))\n",
        "            in_batch.append(padded)\n",
        "        out_batch = []\n",
        "        for s in out_seqs:\n",
        "            padded = s + [PAD] * (max_out - len(s))\n",
        "            out_batch.append(padded)\n",
        "\n",
        "        in_tensor = torch.tensor(in_batch, dtype=torch.long)\n",
        "        out_tensor = torch.tensor(out_batch, dtype=torch.long)\n",
        "        in_lens_t = torch.tensor(in_lens, dtype=torch.long)\n",
        "        out_lens_t = torch.tensor(out_lens, dtype=torch.long)\n",
        "\n",
        "        return in_tensor, in_lens_t, out_tensor, out_lens_t"
      ],
      "metadata": {
        "id": "LUgDAgd1NS_p"
      },
      "execution_count": 63,
      "outputs": []
    },
    {
      "cell_type": "code",
      "source": [
        "#================================================================================\n",
        "# 3) Colab 셀 3: 데이터 불러와서 vocab 만들기 & train/val 분리\n",
        "#================================================================================\n",
        "DATA_PATH = 'training_data.txt'\n",
        "\n",
        "# 1) build_vocab=True 로 데이터셋 인스턴스 생성 → token2idx 얻기\n",
        "full_ds_vocab = MazeSeqDataset(data_path=DATA_PATH, build_vocab=True)\n",
        "token2idx = full_ds_vocab.token2idx\n",
        "vocab_size = len(token2idx)\n",
        "print(\"Final vocab size:\", vocab_size)\n",
        "\n",
        "# 2) 같은 데이터셋을 token2idx 고정하고 다시 생성\n",
        "full_ds = MazeSeqDataset(data_path=DATA_PATH, token2idx=token2idx, build_vocab=False)\n",
        "\n",
        "# 3) train/val 분리 (예: 90% train, 10% val)\n",
        "total_len = len(full_ds)\n",
        "train_len = int(total_len * 0.9)\n",
        "val_len = total_len - train_len\n",
        "train_ds, val_ds = random_split(full_ds, [train_len, val_len])\n",
        "\n",
        "print(f\"Total samples: {total_len}, Train: {train_len}, Val: {val_len}\")\n",
        "\n",
        "# 4) DataLoader 구성\n",
        "BATCH_SIZE = 64\n",
        "train_loader = DataLoader(train_ds, batch_size=BATCH_SIZE, shuffle=True, collate_fn=MazeSeqDataset.collate_fn)\n",
        "val_loader   = DataLoader(val_ds,   batch_size=BATCH_SIZE, shuffle=False, collate_fn=MazeSeqDataset.collate_fn)\n"
      ],
      "metadata": {
        "colab": {
          "base_uri": "https://localhost:8080/"
        },
        "id": "XIUOzbBtNeRr",
        "outputId": "4ca49ffa-8055-4170-eac9-31a3533f4ee5"
      },
      "execution_count": 64,
      "outputs": [
        {
          "output_type": "stream",
          "name": "stderr",
          "text": [
            "Parsing data: 100%|██████████| 68382/68382 [00:01<00:00, 68125.19it/s]\n"
          ]
        },
        {
          "output_type": "stream",
          "name": "stdout",
          "text": [
            "Vocab size: 288\n",
            "Final vocab size: 288\n"
          ]
        },
        {
          "output_type": "stream",
          "name": "stderr",
          "text": [
            "Parsing data: 100%|██████████| 68382/68382 [00:00<00:00, 296841.92it/s]\n"
          ]
        },
        {
          "output_type": "stream",
          "name": "stdout",
          "text": [
            "Total samples: 68382, Train: 61543, Val: 6839\n"
          ]
        }
      ]
    },
    {
      "cell_type": "code",
      "source": [
        "#================================================================================\n",
        "# 4) Colab 셀 4: Seq2Seq 모델 (Encoder-Decoder) 정의\n",
        "#================================================================================\n",
        "class Encoder(nn.Module):\n",
        "    def __init__(self, vocab_size, embed_dim, hidden_dim, num_layers=1, rnn_type='LSTM'):\n",
        "        super().__init__()\n",
        "        self.embedding = nn.Embedding(vocab_size, embed_dim, padding_idx=0)\n",
        "        if rnn_type == 'LSTM':\n",
        "            self.rnn = nn.LSTM(embed_dim, hidden_dim, num_layers=num_layers, batch_first=True)\n",
        "        elif rnn_type == 'GRU':\n",
        "            self.rnn = nn.GRU(embed_dim, hidden_dim, num_layers=num_layers, batch_first=True)\n",
        "        else:\n",
        "            raise ValueError(\"rnn_type must be 'LSTM' or 'GRU'\")\n",
        "        self.rnn_type = rnn_type\n",
        "        self.num_layers = num_layers\n",
        "        self.hidden_dim = hidden_dim\n",
        "\n",
        "    def forward(self, x, lengths):\n",
        "        \"\"\"\n",
        "        x: (batch_size, seq_len) LongTensor\n",
        "        lengths: (batch_size,) 실 입력 길이\n",
        "        return:\n",
        "          outputs: packed RNN outputs (ignored)\n",
        "          hidden: 최종 hidden state (h_n, c_n) 또는 h_n\n",
        "        \"\"\"\n",
        "        embedded = self.embedding(x)  # (B, T, E)\n",
        "        packed = nn.utils.rnn.pack_padded_sequence(embedded, lengths.cpu(), batch_first=True, enforce_sorted=False)\n",
        "        packed_out, hidden = self.rnn(packed)\n",
        "        return hidden\n",
        "\n",
        "class Decoder(nn.Module):\n",
        "    def __init__(self, vocab_size, embed_dim, hidden_dim, num_layers=1, rnn_type='LSTM'):\n",
        "        super().__init__()\n",
        "        self.embedding = nn.Embedding(vocab_size, embed_dim, padding_idx=0)\n",
        "        if rnn_type == 'LSTM':\n",
        "            self.rnn = nn.LSTM(embed_dim, hidden_dim, num_layers=num_layers, batch_first=True)\n",
        "        else:\n",
        "            self.rnn = nn.GRU(embed_dim, hidden_dim, num_layers=num_layers, batch_first=True)\n",
        "        self.out = nn.Linear(hidden_dim, vocab_size)\n",
        "        self.rnn_type = rnn_type\n",
        "\n",
        "    def forward(self, tgt_seq, hidden, teacher_forcing_ratio=0.0):\n",
        "        \"\"\"\n",
        "        tgt_seq: (batch_size, max_len) LongTensor, <SOS> ... <EOS> 포함\n",
        "        hidden: encoder에서 넘어온 hidden state\n",
        "        teacher_forcing_ratio: teacher forcing 확률 (0~1)\n",
        "        \"\"\"\n",
        "        batch_size, max_len = tgt_seq.size()\n",
        "        # 결과 logits: (batch_size, max_len, vocab_size)\n",
        "        outputs = torch.zeros(batch_size, max_len, vocab_size, device=device)\n",
        "\n",
        "        # 초기 입력 토큰은 모두 <SOS>\n",
        "        input_tok = tgt_seq[:, 0].unsqueeze(1)  # (B, 1)  항상 <SOS> 토큰 인덱스\n",
        "\n",
        "        # decoder hidden 초기화\n",
        "        dec_hidden = hidden\n",
        "\n",
        "        for t in range(1, max_len):\n",
        "            emb = self.embedding(input_tok)  # (B, 1, E)\n",
        "            if self.rnn_type == 'LSTM':\n",
        "                out, dec_hidden = self.rnn(emb, dec_hidden)\n",
        "            else:\n",
        "                out, dec_hidden = self.rnn(emb, dec_hidden)\n",
        "            # out: (B, 1, hidden_dim)\n",
        "            logit = self.out(out.squeeze(1))  # (B, vocab_size)\n",
        "            outputs[:, t, :] = logit\n",
        "\n",
        "            # Teacher forcing\n",
        "            teacher_force = random.random() < teacher_forcing_ratio\n",
        "            top1 = logit.argmax(dim=1).unsqueeze(1)  # (B,1)\n",
        "            next_input = tgt_seq[:, t].unsqueeze(1) if teacher_force else top1\n",
        "            input_tok = next_input\n",
        "\n",
        "        return outputs\n",
        "\n",
        "class Seq2Seq(nn.Module):\n",
        "    def __init__(self, vocab_size, embed_dim, hidden_dim, num_layers=1, rnn_type='LSTM'):\n",
        "        super().__init__()\n",
        "        self.encoder = Encoder(vocab_size, embed_dim, hidden_dim, num_layers, rnn_type)\n",
        "        self.decoder = Decoder(vocab_size, embed_dim, hidden_dim, num_layers, rnn_type)\n",
        "\n",
        "    def forward(self, src, src_lens, tgt, teacher_forcing_ratio=0.5):\n",
        "        \"\"\"\n",
        "        src: (B, src_len)\n",
        "        src_lens: (B,)\n",
        "        tgt: (B, tgt_len)\n",
        "        \"\"\"\n",
        "        enc_hidden = self.encoder(src, src_lens)\n",
        "        dec_outs = self.decoder(tgt, enc_hidden, teacher_forcing_ratio)\n",
        "        return dec_outs\n"
      ],
      "metadata": {
        "id": "Iy_H74_JNnMH"
      },
      "execution_count": 65,
      "outputs": []
    },
    {
      "cell_type": "code",
      "source": [
        "#================================================================================\n",
        "# 5) Colab 셀 5: 학습 및 평가 함수 정의\n",
        "#================================================================================\n",
        "def train_epoch(model, dataloader, optimizer, criterion, teacher_forcing_ratio=0.5):\n",
        "    model.train()\n",
        "    epoch_loss = 0.0\n",
        "    for src, src_lens, tgt, tgt_lens in tqdm(dataloader, desc=\"Train batches\"):\n",
        "        src = src.to(device)\n",
        "        src_lens = src_lens.to(device)\n",
        "        tgt = tgt.to(device)\n",
        "        tgt_lens = tgt_lens.to(device)\n",
        "\n",
        "        optimizer.zero_grad()\n",
        "        # 모델 출력: (B, tgt_len, vocab_size)\n",
        "        output_logits = model(src, src_lens, tgt, teacher_forcing_ratio)\n",
        "        # loss 계산: CrossEntropyLoss (PAD 인덱스 무시)\n",
        "        # output_logits[:, t, :] 은 t 시각 예측 logits\n",
        "        # tgt[:, t] 는 정답 인덱스\n",
        "        output_dim = output_logits.size(-1)\n",
        "        B, T, V = output_logits.size()\n",
        "        logits_flat = output_logits[:, 1:, :].reshape(-1, V)    # <SOS> 위치 제외\n",
        "        target_flat = tgt[:, 1:].reshape(-1)                    # 동일하게 shift\n",
        "        loss = criterion(logits_flat, target_flat)\n",
        "        loss.backward()\n",
        "        torch.nn.utils.clip_grad_norm_(model.parameters(), max_norm=1.0)\n",
        "        optimizer.step()\n",
        "        epoch_loss += loss.item()\n",
        "    return epoch_loss / len(dataloader)\n",
        "\n",
        "@torch.no_grad()\n",
        "\n",
        "def count_valid_tokens(tensor_row, pad_idx):\n",
        "    return (tensor_row != pad_idx).sum().item()\n",
        "\n",
        "def evaluate(model, dataloader, criterion, pad_idx):\n",
        "    model.eval()\n",
        "    total_sentences = 0\n",
        "    exact_matches = 0\n",
        "    total_loss = 0.0\n",
        "    length_correct_total = {}\n",
        "\n",
        "    with torch.no_grad():\n",
        "        for src, src_lens, tgt, tgt_lens in tqdm(dataloader, desc=\"Val batches\"):\n",
        "            src = src.to(device)\n",
        "            src_lens = src_lens.to(device)\n",
        "            tgt = tgt.to(device)\n",
        "\n",
        "            output_logits = model(src, src_lens, tgt, teacher_forcing_ratio=0.0)\n",
        "            pred_idxs = output_logits.argmax(dim=-1)\n",
        "\n",
        "            loss = criterion(output_logits.view(-1, output_logits.size(-1)), tgt.view(-1))\n",
        "            total_loss += loss.item()\n",
        "\n",
        "            for b in range(src.size(0)):\n",
        "                true_seq = tgt[b, 1:]\n",
        "                pred_seq = pred_idxs[b, 1:true_seq.size(0)]\n",
        "\n",
        "                valid_len = count_valid_tokens(true_seq, pad_idx)\n",
        "                true_trimmed = true_seq[:valid_len].tolist()\n",
        "                pred_trimmed = pred_seq[:valid_len].tolist()\n",
        "                is_correct = (true_trimmed == pred_trimmed)\n",
        "\n",
        "                total_sentences += 1\n",
        "                if is_correct:\n",
        "                    exact_matches += 1\n",
        "\n",
        "                if valid_len not in length_correct_total:\n",
        "                    length_correct_total[valid_len] = [0, 0]\n",
        "                length_correct_total[valid_len][1] += 1\n",
        "                if is_correct:\n",
        "                    length_correct_total[valid_len][0] += 1\n",
        "\n",
        "    seq_acc = exact_matches / total_sentences if total_sentences > 0 else 0.0\n",
        "\n",
        "    length_acc_list = []\n",
        "    for length in sorted(length_correct_total):\n",
        "        correct, total = length_correct_total[length]\n",
        "        acc = correct / total if total > 0 else 0.0\n",
        "        length_acc_list.append((length, acc))\n",
        "\n",
        "    avg_loss = total_loss / len(dataloader)\n",
        "\n",
        "    return seq_acc, length_acc_list, avg_loss\n",
        "\n",
        "\n"
      ],
      "metadata": {
        "id": "HBs9ysutNpgF"
      },
      "execution_count": 66,
      "outputs": []
    },
    {
      "cell_type": "code",
      "source": [
        "#================================================================================\n",
        "# 6) Colab 셀 6: 하이퍼파라미터 설정 및 모델/Optimizer/손실함수 준비\n",
        "#================================================================================\n",
        "EMBED_DIM = 128\n",
        "HIDDEN_DIM = 256\n",
        "NUM_LAYERS = 1\n",
        "RNN_TYPE = 'LSTM'   # or 'GRU'\n",
        "LEARNING_RATE = 1e-3\n",
        "NUM_EPOCHS = 30\n",
        "\n",
        "model = Seq2Seq(vocab_size, EMBED_DIM, HIDDEN_DIM, NUM_LAYERS, RNN_TYPE).to(device)\n",
        "optimizer = torch.optim.Adam(model.parameters(), lr=LEARNING_RATE)\n",
        "criterion = nn.CrossEntropyLoss(ignore_index=token2idx['<PAD>'])\n",
        "\n",
        "print(model)"
      ],
      "metadata": {
        "colab": {
          "base_uri": "https://localhost:8080/"
        },
        "id": "wh_5-LTfNuIw",
        "outputId": "72149250-20c5-4757-9e10-e23b3962319f"
      },
      "execution_count": 67,
      "outputs": [
        {
          "output_type": "stream",
          "name": "stdout",
          "text": [
            "Seq2Seq(\n",
            "  (encoder): Encoder(\n",
            "    (embedding): Embedding(288, 128, padding_idx=0)\n",
            "    (rnn): LSTM(128, 256, batch_first=True)\n",
            "  )\n",
            "  (decoder): Decoder(\n",
            "    (embedding): Embedding(288, 128, padding_idx=0)\n",
            "    (rnn): LSTM(128, 256, batch_first=True)\n",
            "    (out): Linear(in_features=256, out_features=288, bias=True)\n",
            "  )\n",
            ")\n"
          ]
        }
      ]
    },
    {
      "cell_type": "code",
      "source": [
        "#================================================================================\n",
        "# 7) Colab 셀 7: 학습 루프 실행\n",
        "#================================================================================\n",
        "PAD_IDX = 0\n",
        "train_losses = []\n",
        "val_losses = []\n",
        "val_seq_accs = []\n",
        "val_len_accs = []\n",
        "\n",
        "for epoch in range(1, NUM_EPOCHS + 1):\n",
        "    print(f\"\\n===== Epoch {epoch}/{NUM_EPOCHS} =====\")\n",
        "\n",
        "    train_loss = train_epoch(model, train_loader, optimizer, criterion)\n",
        "    train_losses.append(train_loss)\n",
        "    print(f\"[Epoch {epoch}] Train Loss: {train_loss:.4f}\")\n",
        "\n",
        "    seq_acc, length_acc_list, val_loss = evaluate(model, val_loader, criterion, pad_idx=PAD_IDX)\n",
        "\n",
        "    val_seq_accs.append(seq_acc)\n",
        "    val_len_accs.append(length_acc_list)\n",
        "    val_losses.append(val_loss)\n",
        "\n",
        "    print(f\"[Epoch {epoch}] Val ExactSeq Acc: {seq_acc:.4f}\")\n",
        "    print(\"Length-wise Accuracy:\")\n",
        "    for l, a in length_acc_list:\n",
        "        print(f\"  Length {l}: {a:.2%}\")\n",
        "\n",
        "\n"
      ],
      "metadata": {
        "id": "47j7HyOxN7EO",
        "colab": {
          "base_uri": "https://localhost:8080/"
        },
        "outputId": "f28819a0-2907-42cb-85e4-0b28e6559aec"
      },
      "execution_count": 68,
      "outputs": [
        {
          "output_type": "stream",
          "name": "stdout",
          "text": [
            "\n",
            "===== Epoch 1/30 =====\n"
          ]
        },
        {
          "output_type": "stream",
          "name": "stderr",
          "text": [
            "Train batches: 100%|██████████| 962/962 [00:39<00:00, 24.32it/s]\n"
          ]
        },
        {
          "output_type": "stream",
          "name": "stdout",
          "text": [
            "[Epoch 1] Train Loss: 0.8919\n"
          ]
        },
        {
          "output_type": "stream",
          "name": "stderr",
          "text": [
            "Val batches: 100%|██████████| 107/107 [00:02<00:00, 49.29it/s]\n"
          ]
        },
        {
          "output_type": "stream",
          "name": "stdout",
          "text": [
            "[Epoch 1] Val ExactSeq Acc: 0.0070\n",
            "Length-wise Accuracy:\n",
            "  Length 7: 0.00%\n",
            "  Length 10: 0.00%\n",
            "  Length 12: 0.00%\n",
            "  Length 13: 0.00%\n",
            "  Length 14: 0.00%\n",
            "  Length 15: 0.00%\n",
            "  Length 16: 0.00%\n",
            "  Length 17: 0.00%\n",
            "  Length 18: 0.00%\n",
            "  Length 19: 0.00%\n",
            "  Length 20: 1.35%\n",
            "  Length 21: 0.00%\n",
            "  Length 22: 0.00%\n",
            "  Length 23: 1.42%\n",
            "  Length 24: 0.00%\n",
            "  Length 25: 0.00%\n",
            "  Length 26: 2.15%\n",
            "  Length 27: 0.00%\n",
            "  Length 28: 0.00%\n",
            "  Length 29: 0.00%\n",
            "  Length 30: 0.00%\n",
            "  Length 31: 0.00%\n",
            "\n",
            "===== Epoch 2/30 =====\n"
          ]
        },
        {
          "output_type": "stream",
          "name": "stderr",
          "text": [
            "Train batches: 100%|██████████| 962/962 [00:39<00:00, 24.37it/s]\n"
          ]
        },
        {
          "output_type": "stream",
          "name": "stdout",
          "text": [
            "[Epoch 2] Train Loss: 0.4477\n"
          ]
        },
        {
          "output_type": "stream",
          "name": "stderr",
          "text": [
            "Val batches: 100%|██████████| 107/107 [00:02<00:00, 48.28it/s]\n"
          ]
        },
        {
          "output_type": "stream",
          "name": "stdout",
          "text": [
            "[Epoch 2] Val ExactSeq Acc: 0.1086\n",
            "Length-wise Accuracy:\n",
            "  Length 7: 0.00%\n",
            "  Length 10: 2.43%\n",
            "  Length 12: 0.00%\n",
            "  Length 13: 2.84%\n",
            "  Length 14: 0.00%\n",
            "  Length 15: 0.00%\n",
            "  Length 16: 5.56%\n",
            "  Length 17: 2.13%\n",
            "  Length 18: 0.00%\n",
            "  Length 19: 7.48%\n",
            "  Length 20: 9.36%\n",
            "  Length 21: 12.50%\n",
            "  Length 22: 7.22%\n",
            "  Length 23: 16.51%\n",
            "  Length 24: 16.67%\n",
            "  Length 25: 18.14%\n",
            "  Length 26: 21.18%\n",
            "  Length 27: 7.69%\n",
            "  Length 28: 19.65%\n",
            "  Length 29: 2.92%\n",
            "  Length 30: 0.00%\n",
            "  Length 31: 0.00%\n",
            "\n",
            "===== Epoch 3/30 =====\n"
          ]
        },
        {
          "output_type": "stream",
          "name": "stderr",
          "text": [
            "Train batches: 100%|██████████| 962/962 [00:39<00:00, 24.09it/s]\n"
          ]
        },
        {
          "output_type": "stream",
          "name": "stdout",
          "text": [
            "[Epoch 3] Train Loss: 0.2255\n"
          ]
        },
        {
          "output_type": "stream",
          "name": "stderr",
          "text": [
            "Val batches: 100%|██████████| 107/107 [00:02<00:00, 37.22it/s]\n"
          ]
        },
        {
          "output_type": "stream",
          "name": "stdout",
          "text": [
            "[Epoch 3] Val ExactSeq Acc: 0.3828\n",
            "Length-wise Accuracy:\n",
            "  Length 7: 0.00%\n",
            "  Length 10: 3.28%\n",
            "  Length 12: 0.00%\n",
            "  Length 13: 22.41%\n",
            "  Length 14: 50.00%\n",
            "  Length 15: 7.69%\n",
            "  Length 16: 31.36%\n",
            "  Length 17: 36.17%\n",
            "  Length 18: 20.00%\n",
            "  Length 19: 30.61%\n",
            "  Length 20: 36.08%\n",
            "  Length 21: 37.50%\n",
            "  Length 22: 28.87%\n",
            "  Length 23: 61.78%\n",
            "  Length 24: 25.00%\n",
            "  Length 25: 55.49%\n",
            "  Length 26: 59.12%\n",
            "  Length 27: 19.23%\n",
            "  Length 28: 40.47%\n",
            "  Length 29: 25.55%\n",
            "  Length 30: 30.00%\n",
            "  Length 31: 0.00%\n",
            "\n",
            "===== Epoch 4/30 =====\n"
          ]
        },
        {
          "output_type": "stream",
          "name": "stderr",
          "text": [
            "Train batches: 100%|██████████| 962/962 [00:39<00:00, 24.24it/s]\n"
          ]
        },
        {
          "output_type": "stream",
          "name": "stdout",
          "text": [
            "[Epoch 4] Train Loss: 0.1205\n"
          ]
        },
        {
          "output_type": "stream",
          "name": "stderr",
          "text": [
            "Val batches: 100%|██████████| 107/107 [00:02<00:00, 49.36it/s]\n"
          ]
        },
        {
          "output_type": "stream",
          "name": "stdout",
          "text": [
            "[Epoch 4] Val ExactSeq Acc: 0.6410\n",
            "Length-wise Accuracy:\n",
            "  Length 7: 0.00%\n",
            "  Length 10: 9.70%\n",
            "  Length 12: 15.38%\n",
            "  Length 13: 66.44%\n",
            "  Length 14: 100.00%\n",
            "  Length 15: 69.23%\n",
            "  Length 16: 76.88%\n",
            "  Length 17: 67.02%\n",
            "  Length 18: 40.00%\n",
            "  Length 19: 79.59%\n",
            "  Length 20: 61.33%\n",
            "  Length 21: 75.00%\n",
            "  Length 22: 61.08%\n",
            "  Length 23: 81.14%\n",
            "  Length 24: 75.00%\n",
            "  Length 25: 82.28%\n",
            "  Length 26: 76.67%\n",
            "  Length 27: 50.00%\n",
            "  Length 28: 63.34%\n",
            "  Length 29: 33.58%\n",
            "  Length 30: 20.00%\n",
            "  Length 31: 0.00%\n",
            "\n",
            "===== Epoch 5/30 =====\n"
          ]
        },
        {
          "output_type": "stream",
          "name": "stderr",
          "text": [
            "Train batches: 100%|██████████| 962/962 [00:39<00:00, 24.52it/s]\n"
          ]
        },
        {
          "output_type": "stream",
          "name": "stdout",
          "text": [
            "[Epoch 5] Train Loss: 0.0612\n"
          ]
        },
        {
          "output_type": "stream",
          "name": "stderr",
          "text": [
            "Val batches: 100%|██████████| 107/107 [00:02<00:00, 49.72it/s]\n"
          ]
        },
        {
          "output_type": "stream",
          "name": "stdout",
          "text": [
            "[Epoch 5] Val ExactSeq Acc: 0.7511\n",
            "Length-wise Accuracy:\n",
            "  Length 7: 0.00%\n",
            "  Length 10: 19.40%\n",
            "  Length 12: 46.15%\n",
            "  Length 13: 83.39%\n",
            "  Length 14: 100.00%\n",
            "  Length 15: 100.00%\n",
            "  Length 16: 90.86%\n",
            "  Length 17: 82.98%\n",
            "  Length 18: 100.00%\n",
            "  Length 19: 91.84%\n",
            "  Length 20: 72.72%\n",
            "  Length 21: 87.50%\n",
            "  Length 22: 68.30%\n",
            "  Length 23: 89.61%\n",
            "  Length 24: 91.67%\n",
            "  Length 25: 92.62%\n",
            "  Length 26: 85.16%\n",
            "  Length 27: 88.46%\n",
            "  Length 28: 73.31%\n",
            "  Length 29: 40.15%\n",
            "  Length 30: 60.00%\n",
            "  Length 31: 0.00%\n",
            "\n",
            "===== Epoch 6/30 =====\n"
          ]
        },
        {
          "output_type": "stream",
          "name": "stderr",
          "text": [
            "Train batches: 100%|██████████| 962/962 [00:39<00:00, 24.54it/s]\n"
          ]
        },
        {
          "output_type": "stream",
          "name": "stdout",
          "text": [
            "[Epoch 6] Train Loss: 0.0422\n"
          ]
        },
        {
          "output_type": "stream",
          "name": "stderr",
          "text": [
            "Val batches: 100%|██████████| 107/107 [00:02<00:00, 49.48it/s]\n"
          ]
        },
        {
          "output_type": "stream",
          "name": "stdout",
          "text": [
            "[Epoch 6] Val ExactSeq Acc: 0.7761\n",
            "Length-wise Accuracy:\n",
            "  Length 7: 0.00%\n",
            "  Length 10: 24.25%\n",
            "  Length 12: 46.15%\n",
            "  Length 13: 84.41%\n",
            "  Length 14: 50.00%\n",
            "  Length 15: 92.31%\n",
            "  Length 16: 90.32%\n",
            "  Length 17: 76.60%\n",
            "  Length 18: 100.00%\n",
            "  Length 19: 95.92%\n",
            "  Length 20: 80.50%\n",
            "  Length 21: 100.00%\n",
            "  Length 22: 83.25%\n",
            "  Length 23: 90.11%\n",
            "  Length 24: 91.67%\n",
            "  Length 25: 94.73%\n",
            "  Length 26: 83.47%\n",
            "  Length 27: 88.46%\n",
            "  Length 28: 75.07%\n",
            "  Length 29: 38.69%\n",
            "  Length 30: 60.00%\n",
            "  Length 31: 0.00%\n",
            "\n",
            "===== Epoch 7/30 =====\n"
          ]
        },
        {
          "output_type": "stream",
          "name": "stderr",
          "text": [
            "Train batches: 100%|██████████| 962/962 [00:39<00:00, 24.57it/s]\n"
          ]
        },
        {
          "output_type": "stream",
          "name": "stdout",
          "text": [
            "[Epoch 7] Train Loss: 0.0327\n"
          ]
        },
        {
          "output_type": "stream",
          "name": "stderr",
          "text": [
            "Val batches: 100%|██████████| 107/107 [00:02<00:00, 49.58it/s]\n"
          ]
        },
        {
          "output_type": "stream",
          "name": "stdout",
          "text": [
            "[Epoch 7] Val ExactSeq Acc: 0.8099\n",
            "Length-wise Accuracy:\n",
            "  Length 7: 0.00%\n",
            "  Length 10: 27.82%\n",
            "  Length 12: 61.54%\n",
            "  Length 13: 90.10%\n",
            "  Length 14: 100.00%\n",
            "  Length 15: 92.31%\n",
            "  Length 16: 91.58%\n",
            "  Length 17: 89.36%\n",
            "  Length 18: 100.00%\n",
            "  Length 19: 96.60%\n",
            "  Length 20: 83.43%\n",
            "  Length 21: 100.00%\n",
            "  Length 22: 90.21%\n",
            "  Length 23: 92.79%\n",
            "  Length 24: 100.00%\n",
            "  Length 25: 96.20%\n",
            "  Length 26: 87.88%\n",
            "  Length 27: 88.46%\n",
            "  Length 28: 75.37%\n",
            "  Length 29: 38.69%\n",
            "  Length 30: 60.00%\n",
            "  Length 31: 0.00%\n",
            "\n",
            "===== Epoch 8/30 =====\n"
          ]
        },
        {
          "output_type": "stream",
          "name": "stderr",
          "text": [
            "Train batches: 100%|██████████| 962/962 [00:39<00:00, 24.54it/s]\n"
          ]
        },
        {
          "output_type": "stream",
          "name": "stdout",
          "text": [
            "[Epoch 8] Train Loss: 0.0299\n"
          ]
        },
        {
          "output_type": "stream",
          "name": "stderr",
          "text": [
            "Val batches: 100%|██████████| 107/107 [00:02<00:00, 40.43it/s]\n"
          ]
        },
        {
          "output_type": "stream",
          "name": "stdout",
          "text": [
            "[Epoch 8] Val ExactSeq Acc: 0.8127\n",
            "Length-wise Accuracy:\n",
            "  Length 7: 0.00%\n",
            "  Length 10: 29.81%\n",
            "  Length 12: 53.85%\n",
            "  Length 13: 89.99%\n",
            "  Length 14: 50.00%\n",
            "  Length 15: 92.31%\n",
            "  Length 16: 91.40%\n",
            "  Length 17: 88.30%\n",
            "  Length 18: 100.00%\n",
            "  Length 19: 98.64%\n",
            "  Length 20: 85.01%\n",
            "  Length 21: 100.00%\n",
            "  Length 22: 89.69%\n",
            "  Length 23: 92.04%\n",
            "  Length 24: 100.00%\n",
            "  Length 25: 97.47%\n",
            "  Length 26: 87.20%\n",
            "  Length 27: 92.31%\n",
            "  Length 28: 75.95%\n",
            "  Length 29: 39.42%\n",
            "  Length 30: 60.00%\n",
            "  Length 31: 0.00%\n",
            "\n",
            "===== Epoch 9/30 =====\n"
          ]
        },
        {
          "output_type": "stream",
          "name": "stderr",
          "text": [
            "Train batches: 100%|██████████| 962/962 [00:39<00:00, 24.52it/s]\n"
          ]
        },
        {
          "output_type": "stream",
          "name": "stdout",
          "text": [
            "[Epoch 9] Train Loss: 0.0247\n"
          ]
        },
        {
          "output_type": "stream",
          "name": "stderr",
          "text": [
            "Val batches: 100%|██████████| 107/107 [00:02<00:00, 42.60it/s]\n"
          ]
        },
        {
          "output_type": "stream",
          "name": "stdout",
          "text": [
            "[Epoch 9] Val ExactSeq Acc: 0.8234\n",
            "Length-wise Accuracy:\n",
            "  Length 7: 0.00%\n",
            "  Length 10: 33.10%\n",
            "  Length 12: 46.15%\n",
            "  Length 13: 91.35%\n",
            "  Length 14: 0.00%\n",
            "  Length 15: 92.31%\n",
            "  Length 16: 91.40%\n",
            "  Length 17: 91.49%\n",
            "  Length 18: 100.00%\n",
            "  Length 19: 95.92%\n",
            "  Length 20: 85.46%\n",
            "  Length 21: 100.00%\n",
            "  Length 22: 90.21%\n",
            "  Length 23: 93.55%\n",
            "  Length 24: 100.00%\n",
            "  Length 25: 97.89%\n",
            "  Length 26: 87.32%\n",
            "  Length 27: 100.00%\n",
            "  Length 28: 79.18%\n",
            "  Length 29: 40.15%\n",
            "  Length 30: 60.00%\n",
            "  Length 31: 0.00%\n",
            "\n",
            "===== Epoch 10/30 =====\n"
          ]
        },
        {
          "output_type": "stream",
          "name": "stderr",
          "text": [
            "Train batches: 100%|██████████| 962/962 [00:39<00:00, 24.39it/s]\n"
          ]
        },
        {
          "output_type": "stream",
          "name": "stdout",
          "text": [
            "[Epoch 10] Train Loss: 0.0224\n"
          ]
        },
        {
          "output_type": "stream",
          "name": "stderr",
          "text": [
            "Val batches: 100%|██████████| 107/107 [00:02<00:00, 48.28it/s]\n"
          ]
        },
        {
          "output_type": "stream",
          "name": "stdout",
          "text": [
            "[Epoch 10] Val ExactSeq Acc: 0.8240\n",
            "Length-wise Accuracy:\n",
            "  Length 7: 0.00%\n",
            "  Length 10: 35.66%\n",
            "  Length 12: 69.23%\n",
            "  Length 13: 91.01%\n",
            "  Length 14: 50.00%\n",
            "  Length 15: 92.31%\n",
            "  Length 16: 91.04%\n",
            "  Length 17: 88.30%\n",
            "  Length 18: 100.00%\n",
            "  Length 19: 97.28%\n",
            "  Length 20: 84.78%\n",
            "  Length 21: 87.50%\n",
            "  Length 22: 92.53%\n",
            "  Length 23: 93.29%\n",
            "  Length 24: 100.00%\n",
            "  Length 25: 97.68%\n",
            "  Length 26: 86.52%\n",
            "  Length 27: 92.31%\n",
            "  Length 28: 78.89%\n",
            "  Length 29: 40.15%\n",
            "  Length 30: 60.00%\n",
            "  Length 31: 0.00%\n",
            "\n",
            "===== Epoch 11/30 =====\n"
          ]
        },
        {
          "output_type": "stream",
          "name": "stderr",
          "text": [
            "Train batches: 100%|██████████| 962/962 [00:40<00:00, 24.04it/s]\n"
          ]
        },
        {
          "output_type": "stream",
          "name": "stdout",
          "text": [
            "[Epoch 11] Train Loss: 0.0215\n"
          ]
        },
        {
          "output_type": "stream",
          "name": "stderr",
          "text": [
            "Val batches: 100%|██████████| 107/107 [00:02<00:00, 48.46it/s]\n"
          ]
        },
        {
          "output_type": "stream",
          "name": "stdout",
          "text": [
            "[Epoch 11] Val ExactSeq Acc: 0.8327\n",
            "Length-wise Accuracy:\n",
            "  Length 7: 0.00%\n",
            "  Length 10: 41.51%\n",
            "  Length 12: 46.15%\n",
            "  Length 13: 91.35%\n",
            "  Length 14: 50.00%\n",
            "  Length 15: 92.31%\n",
            "  Length 16: 91.22%\n",
            "  Length 17: 87.23%\n",
            "  Length 18: 100.00%\n",
            "  Length 19: 96.60%\n",
            "  Length 20: 86.70%\n",
            "  Length 21: 87.50%\n",
            "  Length 22: 91.75%\n",
            "  Length 23: 94.05%\n",
            "  Length 24: 100.00%\n",
            "  Length 25: 97.26%\n",
            "  Length 26: 87.43%\n",
            "  Length 27: 92.31%\n",
            "  Length 28: 76.83%\n",
            "  Length 29: 38.69%\n",
            "  Length 30: 60.00%\n",
            "  Length 31: 0.00%\n",
            "\n",
            "===== Epoch 12/30 =====\n"
          ]
        },
        {
          "output_type": "stream",
          "name": "stderr",
          "text": [
            "Train batches: 100%|██████████| 962/962 [00:39<00:00, 24.19it/s]\n"
          ]
        },
        {
          "output_type": "stream",
          "name": "stdout",
          "text": [
            "[Epoch 12] Train Loss: 0.0195\n"
          ]
        },
        {
          "output_type": "stream",
          "name": "stderr",
          "text": [
            "Val batches: 100%|██████████| 107/107 [00:02<00:00, 49.02it/s]\n"
          ]
        },
        {
          "output_type": "stream",
          "name": "stdout",
          "text": [
            "[Epoch 12] Val ExactSeq Acc: 0.8345\n",
            "Length-wise Accuracy:\n",
            "  Length 7: 0.00%\n",
            "  Length 10: 40.09%\n",
            "  Length 12: 46.15%\n",
            "  Length 13: 90.67%\n",
            "  Length 14: 50.00%\n",
            "  Length 15: 84.62%\n",
            "  Length 16: 91.94%\n",
            "  Length 17: 88.30%\n",
            "  Length 18: 100.00%\n",
            "  Length 19: 96.60%\n",
            "  Length 20: 87.94%\n",
            "  Length 21: 100.00%\n",
            "  Length 22: 92.78%\n",
            "  Length 23: 93.71%\n",
            "  Length 24: 100.00%\n",
            "  Length 25: 98.31%\n",
            "  Length 26: 88.11%\n",
            "  Length 27: 92.31%\n",
            "  Length 28: 76.54%\n",
            "  Length 29: 40.15%\n",
            "  Length 30: 60.00%\n",
            "  Length 31: 0.00%\n",
            "\n",
            "===== Epoch 13/30 =====\n"
          ]
        },
        {
          "output_type": "stream",
          "name": "stderr",
          "text": [
            "Train batches: 100%|██████████| 962/962 [00:39<00:00, 24.56it/s]\n"
          ]
        },
        {
          "output_type": "stream",
          "name": "stdout",
          "text": [
            "[Epoch 13] Train Loss: 0.0178\n"
          ]
        },
        {
          "output_type": "stream",
          "name": "stderr",
          "text": [
            "Val batches: 100%|██████████| 107/107 [00:02<00:00, 42.01it/s]\n"
          ]
        },
        {
          "output_type": "stream",
          "name": "stdout",
          "text": [
            "[Epoch 13] Val ExactSeq Acc: 0.8421\n",
            "Length-wise Accuracy:\n",
            "  Length 7: 6.67%\n",
            "  Length 10: 40.94%\n",
            "  Length 12: 84.62%\n",
            "  Length 13: 92.49%\n",
            "  Length 14: 50.00%\n",
            "  Length 15: 92.31%\n",
            "  Length 16: 91.58%\n",
            "  Length 17: 93.62%\n",
            "  Length 18: 100.00%\n",
            "  Length 19: 100.00%\n",
            "  Length 20: 88.05%\n",
            "  Length 21: 100.00%\n",
            "  Length 22: 94.85%\n",
            "  Length 23: 93.88%\n",
            "  Length 24: 100.00%\n",
            "  Length 25: 98.52%\n",
            "  Length 26: 88.11%\n",
            "  Length 27: 100.00%\n",
            "  Length 28: 77.13%\n",
            "  Length 29: 39.42%\n",
            "  Length 30: 60.00%\n",
            "  Length 31: 0.00%\n",
            "\n",
            "===== Epoch 14/30 =====\n"
          ]
        },
        {
          "output_type": "stream",
          "name": "stderr",
          "text": [
            "Train batches: 100%|██████████| 962/962 [00:39<00:00, 24.49it/s]\n"
          ]
        },
        {
          "output_type": "stream",
          "name": "stdout",
          "text": [
            "[Epoch 14] Train Loss: 0.0170\n"
          ]
        },
        {
          "output_type": "stream",
          "name": "stderr",
          "text": [
            "Val batches: 100%|██████████| 107/107 [00:02<00:00, 40.44it/s]\n"
          ]
        },
        {
          "output_type": "stream",
          "name": "stdout",
          "text": [
            "[Epoch 14] Val ExactSeq Acc: 0.8370\n",
            "Length-wise Accuracy:\n",
            "  Length 7: 6.67%\n",
            "  Length 10: 44.79%\n",
            "  Length 12: 76.92%\n",
            "  Length 13: 91.81%\n",
            "  Length 14: 100.00%\n",
            "  Length 15: 92.31%\n",
            "  Length 16: 91.04%\n",
            "  Length 17: 93.62%\n",
            "  Length 18: 100.00%\n",
            "  Length 19: 98.64%\n",
            "  Length 20: 86.47%\n",
            "  Length 21: 100.00%\n",
            "  Length 22: 92.53%\n",
            "  Length 23: 93.63%\n",
            "  Length 24: 100.00%\n",
            "  Length 25: 98.10%\n",
            "  Length 26: 85.39%\n",
            "  Length 27: 100.00%\n",
            "  Length 28: 77.71%\n",
            "  Length 29: 38.69%\n",
            "  Length 30: 60.00%\n",
            "  Length 31: 0.00%\n",
            "\n",
            "===== Epoch 15/30 =====\n"
          ]
        },
        {
          "output_type": "stream",
          "name": "stderr",
          "text": [
            "Train batches: 100%|██████████| 962/962 [00:39<00:00, 24.57it/s]\n"
          ]
        },
        {
          "output_type": "stream",
          "name": "stdout",
          "text": [
            "[Epoch 15] Train Loss: 0.0161\n"
          ]
        },
        {
          "output_type": "stream",
          "name": "stderr",
          "text": [
            "Val batches: 100%|██████████| 107/107 [00:02<00:00, 49.23it/s]\n"
          ]
        },
        {
          "output_type": "stream",
          "name": "stdout",
          "text": [
            "[Epoch 15] Val ExactSeq Acc: 0.8484\n",
            "Length-wise Accuracy:\n",
            "  Length 7: 0.00%\n",
            "  Length 10: 49.93%\n",
            "  Length 12: 69.23%\n",
            "  Length 13: 91.24%\n",
            "  Length 14: 100.00%\n",
            "  Length 15: 92.31%\n",
            "  Length 16: 91.76%\n",
            "  Length 17: 91.49%\n",
            "  Length 18: 100.00%\n",
            "  Length 19: 97.28%\n",
            "  Length 20: 88.95%\n",
            "  Length 21: 100.00%\n",
            "  Length 22: 94.07%\n",
            "  Length 23: 94.13%\n",
            "  Length 24: 100.00%\n",
            "  Length 25: 98.73%\n",
            "  Length 26: 86.75%\n",
            "  Length 27: 92.31%\n",
            "  Length 28: 77.71%\n",
            "  Length 29: 40.15%\n",
            "  Length 30: 60.00%\n",
            "  Length 31: 0.00%\n",
            "\n",
            "===== Epoch 16/30 =====\n"
          ]
        },
        {
          "output_type": "stream",
          "name": "stderr",
          "text": [
            "Train batches: 100%|██████████| 962/962 [00:39<00:00, 24.52it/s]\n"
          ]
        },
        {
          "output_type": "stream",
          "name": "stdout",
          "text": [
            "[Epoch 16] Train Loss: 0.0157\n"
          ]
        },
        {
          "output_type": "stream",
          "name": "stderr",
          "text": [
            "Val batches: 100%|██████████| 107/107 [00:02<00:00, 48.67it/s]\n"
          ]
        },
        {
          "output_type": "stream",
          "name": "stdout",
          "text": [
            "[Epoch 16] Val ExactSeq Acc: 0.8511\n",
            "Length-wise Accuracy:\n",
            "  Length 7: 0.00%\n",
            "  Length 10: 48.64%\n",
            "  Length 12: 69.23%\n",
            "  Length 13: 92.38%\n",
            "  Length 14: 100.00%\n",
            "  Length 15: 84.62%\n",
            "  Length 16: 90.50%\n",
            "  Length 17: 94.68%\n",
            "  Length 18: 100.00%\n",
            "  Length 19: 99.32%\n",
            "  Length 20: 89.06%\n",
            "  Length 21: 100.00%\n",
            "  Length 22: 94.33%\n",
            "  Length 23: 94.30%\n",
            "  Length 24: 100.00%\n",
            "  Length 25: 99.16%\n",
            "  Length 26: 88.56%\n",
            "  Length 27: 96.15%\n",
            "  Length 28: 76.83%\n",
            "  Length 29: 40.15%\n",
            "  Length 30: 60.00%\n",
            "  Length 31: 0.00%\n",
            "\n",
            "===== Epoch 17/30 =====\n"
          ]
        },
        {
          "output_type": "stream",
          "name": "stderr",
          "text": [
            "Train batches: 100%|██████████| 962/962 [00:39<00:00, 24.45it/s]\n"
          ]
        },
        {
          "output_type": "stream",
          "name": "stdout",
          "text": [
            "[Epoch 17] Train Loss: 0.0141\n"
          ]
        },
        {
          "output_type": "stream",
          "name": "stderr",
          "text": [
            "Val batches: 100%|██████████| 107/107 [00:02<00:00, 48.42it/s]\n"
          ]
        },
        {
          "output_type": "stream",
          "name": "stdout",
          "text": [
            "[Epoch 17] Val ExactSeq Acc: 0.8453\n",
            "Length-wise Accuracy:\n",
            "  Length 7: 13.33%\n",
            "  Length 10: 50.50%\n",
            "  Length 12: 76.92%\n",
            "  Length 13: 90.67%\n",
            "  Length 14: 100.00%\n",
            "  Length 15: 92.31%\n",
            "  Length 16: 91.40%\n",
            "  Length 17: 91.49%\n",
            "  Length 18: 100.00%\n",
            "  Length 19: 99.32%\n",
            "  Length 20: 86.81%\n",
            "  Length 21: 100.00%\n",
            "  Length 22: 93.30%\n",
            "  Length 23: 93.80%\n",
            "  Length 24: 100.00%\n",
            "  Length 25: 98.95%\n",
            "  Length 26: 86.98%\n",
            "  Length 27: 96.15%\n",
            "  Length 28: 77.71%\n",
            "  Length 29: 38.69%\n",
            "  Length 30: 60.00%\n",
            "  Length 31: 0.00%\n",
            "\n",
            "===== Epoch 18/30 =====\n"
          ]
        },
        {
          "output_type": "stream",
          "name": "stderr",
          "text": [
            "Train batches: 100%|██████████| 962/962 [00:39<00:00, 24.52it/s]\n"
          ]
        },
        {
          "output_type": "stream",
          "name": "stdout",
          "text": [
            "[Epoch 18] Train Loss: 0.0137\n"
          ]
        },
        {
          "output_type": "stream",
          "name": "stderr",
          "text": [
            "Val batches: 100%|██████████| 107/107 [00:02<00:00, 48.93it/s]\n"
          ]
        },
        {
          "output_type": "stream",
          "name": "stdout",
          "text": [
            "[Epoch 18] Val ExactSeq Acc: 0.8494\n",
            "Length-wise Accuracy:\n",
            "  Length 7: 13.33%\n",
            "  Length 10: 52.50%\n",
            "  Length 12: 69.23%\n",
            "  Length 13: 91.13%\n",
            "  Length 14: 100.00%\n",
            "  Length 15: 92.31%\n",
            "  Length 16: 91.22%\n",
            "  Length 17: 87.23%\n",
            "  Length 18: 100.00%\n",
            "  Length 19: 97.96%\n",
            "  Length 20: 88.61%\n",
            "  Length 21: 100.00%\n",
            "  Length 22: 92.53%\n",
            "  Length 23: 93.71%\n",
            "  Length 24: 100.00%\n",
            "  Length 25: 98.73%\n",
            "  Length 26: 87.54%\n",
            "  Length 27: 96.15%\n",
            "  Length 28: 77.71%\n",
            "  Length 29: 40.15%\n",
            "  Length 30: 60.00%\n",
            "  Length 31: 0.00%\n",
            "\n",
            "===== Epoch 19/30 =====\n"
          ]
        },
        {
          "output_type": "stream",
          "name": "stderr",
          "text": [
            "Train batches: 100%|██████████| 962/962 [00:39<00:00, 24.42it/s]\n"
          ]
        },
        {
          "output_type": "stream",
          "name": "stdout",
          "text": [
            "[Epoch 19] Train Loss: 0.0128\n"
          ]
        },
        {
          "output_type": "stream",
          "name": "stderr",
          "text": [
            "Val batches: 100%|██████████| 107/107 [00:03<00:00, 35.23it/s]\n"
          ]
        },
        {
          "output_type": "stream",
          "name": "stdout",
          "text": [
            "[Epoch 19] Val ExactSeq Acc: 0.8526\n",
            "Length-wise Accuracy:\n",
            "  Length 7: 0.00%\n",
            "  Length 10: 55.92%\n",
            "  Length 12: 84.62%\n",
            "  Length 13: 92.38%\n",
            "  Length 14: 100.00%\n",
            "  Length 15: 84.62%\n",
            "  Length 16: 89.96%\n",
            "  Length 17: 95.74%\n",
            "  Length 18: 100.00%\n",
            "  Length 19: 97.96%\n",
            "  Length 20: 87.37%\n",
            "  Length 21: 100.00%\n",
            "  Length 22: 94.85%\n",
            "  Length 23: 93.29%\n",
            "  Length 24: 100.00%\n",
            "  Length 25: 98.10%\n",
            "  Length 26: 86.98%\n",
            "  Length 27: 96.15%\n",
            "  Length 28: 78.59%\n",
            "  Length 29: 39.42%\n",
            "  Length 30: 60.00%\n",
            "  Length 31: 0.00%\n",
            "\n",
            "===== Epoch 20/30 =====\n"
          ]
        },
        {
          "output_type": "stream",
          "name": "stderr",
          "text": [
            "Train batches: 100%|██████████| 962/962 [00:39<00:00, 24.56it/s]\n"
          ]
        },
        {
          "output_type": "stream",
          "name": "stdout",
          "text": [
            "[Epoch 20] Train Loss: 0.0127\n"
          ]
        },
        {
          "output_type": "stream",
          "name": "stderr",
          "text": [
            "Val batches: 100%|██████████| 107/107 [00:02<00:00, 49.17it/s]\n"
          ]
        },
        {
          "output_type": "stream",
          "name": "stdout",
          "text": [
            "[Epoch 20] Val ExactSeq Acc: 0.8523\n",
            "Length-wise Accuracy:\n",
            "  Length 7: 6.67%\n",
            "  Length 10: 52.64%\n",
            "  Length 12: 76.92%\n",
            "  Length 13: 91.81%\n",
            "  Length 14: 100.00%\n",
            "  Length 15: 92.31%\n",
            "  Length 16: 90.68%\n",
            "  Length 17: 92.55%\n",
            "  Length 18: 100.00%\n",
            "  Length 19: 97.96%\n",
            "  Length 20: 88.73%\n",
            "  Length 21: 87.50%\n",
            "  Length 22: 94.33%\n",
            "  Length 23: 93.71%\n",
            "  Length 24: 91.67%\n",
            "  Length 25: 98.10%\n",
            "  Length 26: 87.88%\n",
            "  Length 27: 96.15%\n",
            "  Length 28: 79.18%\n",
            "  Length 29: 40.15%\n",
            "  Length 30: 60.00%\n",
            "  Length 31: 0.00%\n",
            "\n",
            "===== Epoch 21/30 =====\n"
          ]
        },
        {
          "output_type": "stream",
          "name": "stderr",
          "text": [
            "Train batches: 100%|██████████| 962/962 [00:39<00:00, 24.47it/s]\n"
          ]
        },
        {
          "output_type": "stream",
          "name": "stdout",
          "text": [
            "[Epoch 21] Train Loss: 0.0127\n"
          ]
        },
        {
          "output_type": "stream",
          "name": "stderr",
          "text": [
            "Val batches: 100%|██████████| 107/107 [00:02<00:00, 49.36it/s]\n"
          ]
        },
        {
          "output_type": "stream",
          "name": "stdout",
          "text": [
            "[Epoch 21] Val ExactSeq Acc: 0.8586\n",
            "Length-wise Accuracy:\n",
            "  Length 7: 0.00%\n",
            "  Length 10: 56.49%\n",
            "  Length 12: 69.23%\n",
            "  Length 13: 92.49%\n",
            "  Length 14: 100.00%\n",
            "  Length 15: 92.31%\n",
            "  Length 16: 91.04%\n",
            "  Length 17: 93.62%\n",
            "  Length 18: 100.00%\n",
            "  Length 19: 99.32%\n",
            "  Length 20: 89.63%\n",
            "  Length 21: 100.00%\n",
            "  Length 22: 94.85%\n",
            "  Length 23: 94.13%\n",
            "  Length 24: 100.00%\n",
            "  Length 25: 98.52%\n",
            "  Length 26: 87.20%\n",
            "  Length 27: 96.15%\n",
            "  Length 28: 77.42%\n",
            "  Length 29: 40.15%\n",
            "  Length 30: 60.00%\n",
            "  Length 31: 0.00%\n",
            "\n",
            "===== Epoch 22/30 =====\n"
          ]
        },
        {
          "output_type": "stream",
          "name": "stderr",
          "text": [
            "Train batches: 100%|██████████| 962/962 [00:39<00:00, 24.45it/s]\n"
          ]
        },
        {
          "output_type": "stream",
          "name": "stdout",
          "text": [
            "[Epoch 22] Train Loss: 0.0113\n"
          ]
        },
        {
          "output_type": "stream",
          "name": "stderr",
          "text": [
            "Val batches: 100%|██████████| 107/107 [00:02<00:00, 49.43it/s]\n"
          ]
        },
        {
          "output_type": "stream",
          "name": "stdout",
          "text": [
            "[Epoch 22] Val ExactSeq Acc: 0.8554\n",
            "Length-wise Accuracy:\n",
            "  Length 7: 13.33%\n",
            "  Length 10: 57.06%\n",
            "  Length 12: 92.31%\n",
            "  Length 13: 90.56%\n",
            "  Length 14: 100.00%\n",
            "  Length 15: 92.31%\n",
            "  Length 16: 91.04%\n",
            "  Length 17: 92.55%\n",
            "  Length 18: 100.00%\n",
            "  Length 19: 99.32%\n",
            "  Length 20: 88.84%\n",
            "  Length 21: 100.00%\n",
            "  Length 22: 95.10%\n",
            "  Length 23: 93.46%\n",
            "  Length 24: 100.00%\n",
            "  Length 25: 98.31%\n",
            "  Length 26: 87.09%\n",
            "  Length 27: 96.15%\n",
            "  Length 28: 78.30%\n",
            "  Length 29: 40.15%\n",
            "  Length 30: 60.00%\n",
            "  Length 31: 0.00%\n",
            "\n",
            "===== Epoch 23/30 =====\n"
          ]
        },
        {
          "output_type": "stream",
          "name": "stderr",
          "text": [
            "Train batches: 100%|██████████| 962/962 [00:39<00:00, 24.42it/s]\n"
          ]
        },
        {
          "output_type": "stream",
          "name": "stdout",
          "text": [
            "[Epoch 23] Train Loss: 0.0119\n"
          ]
        },
        {
          "output_type": "stream",
          "name": "stderr",
          "text": [
            "Val batches: 100%|██████████| 107/107 [00:02<00:00, 49.31it/s]\n"
          ]
        },
        {
          "output_type": "stream",
          "name": "stdout",
          "text": [
            "[Epoch 23] Val ExactSeq Acc: 0.8633\n",
            "Length-wise Accuracy:\n",
            "  Length 7: 0.00%\n",
            "  Length 10: 57.06%\n",
            "  Length 12: 84.62%\n",
            "  Length 13: 92.15%\n",
            "  Length 14: 100.00%\n",
            "  Length 15: 92.31%\n",
            "  Length 16: 91.04%\n",
            "  Length 17: 93.62%\n",
            "  Length 18: 100.00%\n",
            "  Length 19: 100.00%\n",
            "  Length 20: 90.64%\n",
            "  Length 21: 100.00%\n",
            "  Length 22: 95.10%\n",
            "  Length 23: 93.88%\n",
            "  Length 24: 100.00%\n",
            "  Length 25: 99.79%\n",
            "  Length 26: 88.22%\n",
            "  Length 27: 96.15%\n",
            "  Length 28: 79.18%\n",
            "  Length 29: 40.15%\n",
            "  Length 30: 60.00%\n",
            "  Length 31: 0.00%\n",
            "\n",
            "===== Epoch 24/30 =====\n"
          ]
        },
        {
          "output_type": "stream",
          "name": "stderr",
          "text": [
            "Train batches: 100%|██████████| 962/962 [00:39<00:00, 24.48it/s]\n"
          ]
        },
        {
          "output_type": "stream",
          "name": "stdout",
          "text": [
            "[Epoch 24] Train Loss: 0.0115\n"
          ]
        },
        {
          "output_type": "stream",
          "name": "stderr",
          "text": [
            "Val batches: 100%|██████████| 107/107 [00:02<00:00, 42.58it/s]\n"
          ]
        },
        {
          "output_type": "stream",
          "name": "stdout",
          "text": [
            "[Epoch 24] Val ExactSeq Acc: 0.8615\n",
            "Length-wise Accuracy:\n",
            "  Length 7: 13.33%\n",
            "  Length 10: 59.06%\n",
            "  Length 12: 76.92%\n",
            "  Length 13: 92.61%\n",
            "  Length 14: 100.00%\n",
            "  Length 15: 92.31%\n",
            "  Length 16: 91.40%\n",
            "  Length 17: 93.62%\n",
            "  Length 18: 80.00%\n",
            "  Length 19: 100.00%\n",
            "  Length 20: 88.61%\n",
            "  Length 21: 100.00%\n",
            "  Length 22: 94.07%\n",
            "  Length 23: 93.55%\n",
            "  Length 24: 100.00%\n",
            "  Length 25: 97.89%\n",
            "  Length 26: 89.01%\n",
            "  Length 27: 96.15%\n",
            "  Length 28: 78.01%\n",
            "  Length 29: 40.15%\n",
            "  Length 30: 60.00%\n",
            "  Length 31: 0.00%\n",
            "\n",
            "===== Epoch 25/30 =====\n"
          ]
        },
        {
          "output_type": "stream",
          "name": "stderr",
          "text": [
            "Train batches: 100%|██████████| 962/962 [00:40<00:00, 23.87it/s]\n"
          ]
        },
        {
          "output_type": "stream",
          "name": "stdout",
          "text": [
            "[Epoch 25] Train Loss: 0.0112\n"
          ]
        },
        {
          "output_type": "stream",
          "name": "stderr",
          "text": [
            "Val batches: 100%|██████████| 107/107 [00:02<00:00, 42.70it/s]\n"
          ]
        },
        {
          "output_type": "stream",
          "name": "stdout",
          "text": [
            "[Epoch 25] Val ExactSeq Acc: 0.8661\n",
            "Length-wise Accuracy:\n",
            "  Length 7: 6.67%\n",
            "  Length 10: 60.63%\n",
            "  Length 12: 69.23%\n",
            "  Length 13: 91.81%\n",
            "  Length 14: 100.00%\n",
            "  Length 15: 92.31%\n",
            "  Length 16: 90.86%\n",
            "  Length 17: 91.49%\n",
            "  Length 18: 100.00%\n",
            "  Length 19: 100.00%\n",
            "  Length 20: 89.40%\n",
            "  Length 21: 100.00%\n",
            "  Length 22: 96.65%\n",
            "  Length 23: 94.05%\n",
            "  Length 24: 100.00%\n",
            "  Length 25: 99.79%\n",
            "  Length 26: 88.56%\n",
            "  Length 27: 96.15%\n",
            "  Length 28: 79.47%\n",
            "  Length 29: 40.15%\n",
            "  Length 30: 60.00%\n",
            "  Length 31: 0.00%\n",
            "\n",
            "===== Epoch 26/30 =====\n"
          ]
        },
        {
          "output_type": "stream",
          "name": "stderr",
          "text": [
            "Train batches: 100%|██████████| 962/962 [00:40<00:00, 24.04it/s]\n"
          ]
        },
        {
          "output_type": "stream",
          "name": "stdout",
          "text": [
            "[Epoch 26] Train Loss: 0.0108\n"
          ]
        },
        {
          "output_type": "stream",
          "name": "stderr",
          "text": [
            "Val batches: 100%|██████████| 107/107 [00:02<00:00, 48.56it/s]\n"
          ]
        },
        {
          "output_type": "stream",
          "name": "stdout",
          "text": [
            "[Epoch 26] Val ExactSeq Acc: 0.8627\n",
            "Length-wise Accuracy:\n",
            "  Length 7: 6.67%\n",
            "  Length 10: 57.77%\n",
            "  Length 12: 84.62%\n",
            "  Length 13: 91.92%\n",
            "  Length 14: 50.00%\n",
            "  Length 15: 92.31%\n",
            "  Length 16: 90.32%\n",
            "  Length 17: 92.55%\n",
            "  Length 18: 100.00%\n",
            "  Length 19: 100.00%\n",
            "  Length 20: 89.18%\n",
            "  Length 21: 100.00%\n",
            "  Length 22: 95.10%\n",
            "  Length 23: 94.47%\n",
            "  Length 24: 100.00%\n",
            "  Length 25: 99.58%\n",
            "  Length 26: 89.01%\n",
            "  Length 27: 100.00%\n",
            "  Length 28: 78.30%\n",
            "  Length 29: 40.15%\n",
            "  Length 30: 60.00%\n",
            "  Length 31: 0.00%\n",
            "\n",
            "===== Epoch 27/30 =====\n"
          ]
        },
        {
          "output_type": "stream",
          "name": "stderr",
          "text": [
            "Train batches: 100%|██████████| 962/962 [00:39<00:00, 24.22it/s]\n"
          ]
        },
        {
          "output_type": "stream",
          "name": "stdout",
          "text": [
            "[Epoch 27] Train Loss: 0.0109\n"
          ]
        },
        {
          "output_type": "stream",
          "name": "stderr",
          "text": [
            "Val batches: 100%|██████████| 107/107 [00:02<00:00, 49.11it/s]\n"
          ]
        },
        {
          "output_type": "stream",
          "name": "stdout",
          "text": [
            "[Epoch 27] Val ExactSeq Acc: 0.8669\n",
            "Length-wise Accuracy:\n",
            "  Length 7: 13.33%\n",
            "  Length 10: 60.91%\n",
            "  Length 12: 69.23%\n",
            "  Length 13: 92.83%\n",
            "  Length 14: 50.00%\n",
            "  Length 15: 92.31%\n",
            "  Length 16: 91.04%\n",
            "  Length 17: 90.43%\n",
            "  Length 18: 100.00%\n",
            "  Length 19: 98.64%\n",
            "  Length 20: 89.29%\n",
            "  Length 21: 100.00%\n",
            "  Length 22: 95.36%\n",
            "  Length 23: 94.47%\n",
            "  Length 24: 100.00%\n",
            "  Length 25: 99.58%\n",
            "  Length 26: 88.90%\n",
            "  Length 27: 100.00%\n",
            "  Length 28: 78.01%\n",
            "  Length 29: 40.15%\n",
            "  Length 30: 60.00%\n",
            "  Length 31: 0.00%\n",
            "\n",
            "===== Epoch 28/30 =====\n"
          ]
        },
        {
          "output_type": "stream",
          "name": "stderr",
          "text": [
            "Train batches: 100%|██████████| 962/962 [00:39<00:00, 24.28it/s]\n"
          ]
        },
        {
          "output_type": "stream",
          "name": "stdout",
          "text": [
            "[Epoch 28] Train Loss: 0.0111\n"
          ]
        },
        {
          "output_type": "stream",
          "name": "stderr",
          "text": [
            "Val batches: 100%|██████████| 107/107 [00:02<00:00, 49.15it/s]\n"
          ]
        },
        {
          "output_type": "stream",
          "name": "stdout",
          "text": [
            "[Epoch 28] Val ExactSeq Acc: 0.8626\n",
            "Length-wise Accuracy:\n",
            "  Length 7: 20.00%\n",
            "  Length 10: 60.06%\n",
            "  Length 12: 92.31%\n",
            "  Length 13: 92.72%\n",
            "  Length 14: 100.00%\n",
            "  Length 15: 92.31%\n",
            "  Length 16: 91.22%\n",
            "  Length 17: 93.62%\n",
            "  Length 18: 100.00%\n",
            "  Length 19: 99.32%\n",
            "  Length 20: 89.85%\n",
            "  Length 21: 100.00%\n",
            "  Length 22: 94.33%\n",
            "  Length 23: 93.46%\n",
            "  Length 24: 100.00%\n",
            "  Length 25: 98.10%\n",
            "  Length 26: 87.66%\n",
            "  Length 27: 96.15%\n",
            "  Length 28: 77.13%\n",
            "  Length 29: 40.15%\n",
            "  Length 30: 60.00%\n",
            "  Length 31: 0.00%\n",
            "\n",
            "===== Epoch 29/30 =====\n"
          ]
        },
        {
          "output_type": "stream",
          "name": "stderr",
          "text": [
            "Train batches: 100%|██████████| 962/962 [00:39<00:00, 24.46it/s]\n"
          ]
        },
        {
          "output_type": "stream",
          "name": "stdout",
          "text": [
            "[Epoch 29] Train Loss: 0.0102\n"
          ]
        },
        {
          "output_type": "stream",
          "name": "stderr",
          "text": [
            "Val batches: 100%|██████████| 107/107 [00:02<00:00, 36.83it/s]\n"
          ]
        },
        {
          "output_type": "stream",
          "name": "stdout",
          "text": [
            "[Epoch 29] Val ExactSeq Acc: 0.8662\n",
            "Length-wise Accuracy:\n",
            "  Length 7: 6.67%\n",
            "  Length 10: 61.20%\n",
            "  Length 12: 61.54%\n",
            "  Length 13: 93.06%\n",
            "  Length 14: 100.00%\n",
            "  Length 15: 92.31%\n",
            "  Length 16: 90.86%\n",
            "  Length 17: 93.62%\n",
            "  Length 18: 100.00%\n",
            "  Length 19: 100.00%\n",
            "  Length 20: 89.52%\n",
            "  Length 21: 100.00%\n",
            "  Length 22: 94.59%\n",
            "  Length 23: 93.96%\n",
            "  Length 24: 100.00%\n",
            "  Length 25: 99.16%\n",
            "  Length 26: 88.45%\n",
            "  Length 27: 96.15%\n",
            "  Length 28: 79.47%\n",
            "  Length 29: 37.96%\n",
            "  Length 30: 60.00%\n",
            "  Length 31: 0.00%\n",
            "\n",
            "===== Epoch 30/30 =====\n"
          ]
        },
        {
          "output_type": "stream",
          "name": "stderr",
          "text": [
            "Train batches: 100%|██████████| 962/962 [00:39<00:00, 24.41it/s]\n"
          ]
        },
        {
          "output_type": "stream",
          "name": "stdout",
          "text": [
            "[Epoch 30] Train Loss: 0.0100\n"
          ]
        },
        {
          "output_type": "stream",
          "name": "stderr",
          "text": [
            "Val batches: 100%|██████████| 107/107 [00:02<00:00, 48.90it/s]"
          ]
        },
        {
          "output_type": "stream",
          "name": "stdout",
          "text": [
            "[Epoch 30] Val ExactSeq Acc: 0.8574\n",
            "Length-wise Accuracy:\n",
            "  Length 7: 20.00%\n",
            "  Length 10: 62.48%\n",
            "  Length 12: 92.31%\n",
            "  Length 13: 92.04%\n",
            "  Length 14: 100.00%\n",
            "  Length 15: 92.31%\n",
            "  Length 16: 90.50%\n",
            "  Length 17: 90.43%\n",
            "  Length 18: 100.00%\n",
            "  Length 19: 95.24%\n",
            "  Length 20: 86.47%\n",
            "  Length 21: 100.00%\n",
            "  Length 22: 89.95%\n",
            "  Length 23: 93.29%\n",
            "  Length 24: 100.00%\n",
            "  Length 25: 98.31%\n",
            "  Length 26: 88.45%\n",
            "  Length 27: 100.00%\n",
            "  Length 28: 79.18%\n",
            "  Length 29: 40.15%\n",
            "  Length 30: 60.00%\n",
            "  Length 31: 0.00%\n"
          ]
        },
        {
          "output_type": "stream",
          "name": "stderr",
          "text": [
            "\n"
          ]
        }
      ]
    },
    {
      "cell_type": "code",
      "source": [
        "#================================================================================\n",
        "# 8) Colab 셀 8: Loss/Accuracy 시각화 (선택사항)\n",
        "#================================================================================\n",
        "import matplotlib.pyplot as plt\n",
        "\n",
        "# ----- 그래프 -----\n",
        "plt.figure(figsize=(10, 4))\n",
        "\n",
        "plt.subplot(1, 2, 1)\n",
        "plt.plot(range(1, NUM_EPOCHS+1), train_losses, label='Train Loss')\n",
        "plt.plot(range(1, NUM_EPOCHS+1), val_losses, label='Val Loss')\n",
        "plt.xlabel('Epoch')\n",
        "plt.ylabel('Loss')\n",
        "plt.legend()\n",
        "plt.title('Loss Curve')\n",
        "\n",
        "plt.subplot(1, 2, 2)\n",
        "plt.plot(range(1, NUM_EPOCHS+1), [acc * 100 for acc in val_seq_accs], label='Val ExactSeq Acc')\n",
        "plt.xlabel('Epoch')\n",
        "plt.ylabel('Exact Match (%)')\n",
        "plt.legend()\n",
        "plt.title('Sequence Exact Match Accuracy')\n",
        "\n",
        "plt.tight_layout()\n",
        "plt.show()\n",
        "\n",
        "# ----- 마지막 epoch 기준 길이별 정확도 표 -----\n",
        "print(\"\\n📊 Final Epoch Length-wise Accuracy Table\")\n",
        "final_length_acc = val_len_accs[-1]\n",
        "print(\"{:<10}{}\".format(\"Length\", \"Accuracy\"))\n",
        "print(\"-\" * 25)\n",
        "for l, a in final_length_acc:\n",
        "    print(\"{:<10}{:.2%}\".format(l, a))\n"
      ],
      "metadata": {
        "id": "L7dGFwKdN8G0",
        "colab": {
          "base_uri": "https://localhost:8080/",
          "height": 879
        },
        "outputId": "6dca6847-0ae7-4d74-c28f-76c8a97fd9ea"
      },
      "execution_count": 69,
      "outputs": [
        {
          "output_type": "display_data",
          "data": {
            "text/plain": [
              "<Figure size 1000x400 with 2 Axes>"
            ],
            "image/png": "[encoded data removed]"
          },
          "metadata": {}
        },
        {
          "output_type": "stream",
          "name": "stdout",
          "text": [
            "\n",
            "📊 Final Epoch Length-wise Accuracy Table\n",
            "Length    Accuracy\n",
            "-------------------------\n",
            "7         20.00%\n",
            "10        62.48%\n",
            "12        92.31%\n",
            "13        92.04%\n",
            "14        100.00%\n",
            "15        92.31%\n",
            "16        90.50%\n",
            "17        90.43%\n",
            "18        100.00%\n",
            "19        95.24%\n",
            "20        86.47%\n",
            "21        100.00%\n",
            "22        89.95%\n",
            "23        93.29%\n",
            "24        100.00%\n",
            "25        98.31%\n",
            "26        88.45%\n",
            "27        100.00%\n",
            "28        79.18%\n",
            "29        40.15%\n",
            "30        60.00%\n",
            "31        0.00%\n"
          ]
        }
      ]
    },
    {
      "cell_type": "code",
      "source": [
        "#================================================================================\n",
        "# 9) Colab 셀: 모델 불러오기 및 Inference 함수\n",
        "#================================================================================\n",
        "\n",
        "import torch\n",
        "import torch.nn as nn\n",
        "\n",
        "# (이미 위에서 정의해 두었던 Encoder, Decoder, Seq2Seq 클래스가 런타임에 남아 있다고 가정합니다.)\n",
        "# 만약 런타임을 재시작했다면, Encoder/Decoder/Seq2Seq 클래스를 다시 정의한 뒤 아래를 실행하세요.\n",
        "\n",
        "# 1) 저장된 token2idx 불러오기\n",
        "# ────────────────────────────────────────────────────────────────────────────────\n",
        "# 이전 셀에서 token2idx를 생성하고 동일 세션에 남아 있는 경우:\n",
        "#    token2idx = {'<PAD>':0, '<SOS>':1, '<EOS>':2, '1f_1':3, '1f_2':4, 'D=5':5, 'TYPE=Corridor':6, ... }\n",
        "# 만약 세션을 재시작했거나 따로 파일로 저장한 경우, JSON/피클로 load 해서 token2idx를 복원해야 합니다.\n",
        "# 예시: token2idx.json 으로 저장해 두었다면 아래처럼 불러올 수 있습니다.\n",
        "#\n",
        "# import json\n",
        "# with open('token2idx.json', 'r', encoding='utf-8') as f:\n",
        "#     token2idx = json.load(f)\n",
        "\n",
        "# 이 예시에서는 앞선 셀에서 token2idx가 이미 메모리에 남아 있다고 가정합니다.\n",
        "# (만약 없다면 위 주석대로 JSON/피클로 복원해 주세요.)\n",
        "print(\"Vocab size:\", len(token2idx))\n",
        "\n",
        "# 2) idx2token 생성\n",
        "idx2token = { idx: tok for tok, idx in token2idx.items() }\n",
        "\n",
        "# 3) 하이퍼파라미터, Device 세팅\n",
        "device = torch.device('cuda' if torch.cuda.is_available() else 'cpu')\n",
        "print(\"Using device for inference:\", device)\n",
        "\n",
        "EMBED_DIM = 128      # 앞서 학습할 때 사용한 값과 동일해야 합니다.\n",
        "HIDDEN_DIM = 256     # 앞서 학습할 때 사용한 값과 동일해야 합니다.\n",
        "NUM_LAYERS = 1       # 앞서 학습할 때 사용한 값과 동일해야 합니다.\n",
        "RNN_TYPE = 'LSTM'    # 또는 'GRU' (학습 시점에 지정했던 값과 일치해야 합니다.)\n",
        "\n",
        "vocab_size = len(token2idx)\n",
        "\n",
        "# 4) Seq2Seq 모델 인스턴스 생성 & 파라미터 로드\n",
        "model = Seq2Seq(vocab_size, EMBED_DIM, HIDDEN_DIM, NUM_LAYERS, RNN_TYPE).to(device)\n",
        "model.load_state_dict(torch.load('maze_seq2seq_model.pt', map_location=device))\n",
        "model.eval()\n",
        "print(\"Model loaded from maze_seq2seq_model.pt\")\n",
        "\n",
        "# 5) 추론(inference) 함수 정의\n",
        "# ────────────────────────────────────────────────────────────────────────────────\n",
        "#    start_id_str, end_id_str: 예) '1f_1', '1f_2' 등\n",
        "#    max_len: 디코더가 생성할 최대 토큰 길이 (실제 <EOS> 만나면 곧바로 종료)\n",
        "def infer_sequence(start_id_str, end_id_str, max_len=50):\n",
        "    \"\"\"\n",
        "    1) 입력 시퀀스: ['<SOS>', start_id_str, end_id_str, '<EOS>']\n",
        "    2) Encoder → hidden 얻기\n",
        "    3) Decoder에 <SOS>를 첫 입력으로 주고, 한 스텝씩 예측.\n",
        "       각 스텝마다 argmax로 다음 토큰 인덱스 골라서 디코더에 다시 입력\n",
        "    4) <EOS> 인덱스를 만나면 중단. 생성된 인덱스들을 토큰으로 복원하여 리턴.\n",
        "    \"\"\"\n",
        "\n",
        "    # (1) 입력 인덱스로 변환\n",
        "    if start_id_str not in token2idx or end_id_str not in token2idx:\n",
        "        raise ValueError(f\"'{start_id_str}' 또는 '{end_id_str}' 가 token2idx에 없습니다.\")\n",
        "\n",
        "    sos_idx = token2idx['<SOS>']\n",
        "    eos_idx = token2idx['<EOS>']\n",
        "    pad_idx = token2idx['<PAD>']\n",
        "\n",
        "    # src_idxs: [<SOS>, start, end, <EOS>]\n",
        "    src_idxs = [sos_idx, token2idx[start_id_str], token2idx[end_id_str], eos_idx]\n",
        "    src_tensor = torch.tensor(src_idxs, dtype=torch.long, device=device).unsqueeze(0)  # (1, src_len)\n",
        "    src_lens   = torch.tensor([len(src_idxs)], dtype=torch.long, device=device)       # (1,)\n",
        "\n",
        "    # (2) Encoder forward -> hidden\n",
        "    #     LSTM일 때는 (h_n, c_n)이 반환, GRU일 때는 h_n 반환\n",
        "    with torch.no_grad():\n",
        "        enc_hidden = model.encoder(src_tensor, src_lens)\n",
        "\n",
        "    # (3) Decoder 초기 입력: <SOS> 하나만\n",
        "    dec_input = torch.tensor([[sos_idx]], dtype=torch.long, device=device)  # shape=(1,1)\n",
        "    dec_hidden = enc_hidden  # LSTM이면 (h_n, c_n), GRU이면 h_n\n",
        "\n",
        "    generated_idxs = []\n",
        "\n",
        "    # (4) 한 스텝씩 생성\n",
        "    for t in range(max_len):\n",
        "        # dec_input: (1,1)  → embedding → rnn → linear → logits(1, vocab_size)\n",
        "        emb = model.decoder.embedding(dec_input)  # (1,1, E)\n",
        "        if RNN_TYPE == 'LSTM':\n",
        "            out, dec_hidden = model.decoder.rnn(emb, dec_hidden)\n",
        "        else:\n",
        "            out, dec_hidden = model.decoder.rnn(emb, dec_hidden)\n",
        "        logits = model.decoder.out(out.squeeze(1))  # (1, vocab_size)\n",
        "\n",
        "        # Greedy: 가장 높은 확률의 토큰 선택\n",
        "        next_idx = logits.argmax(dim=1).item()  # 스칼라\n",
        "        generated_idxs.append(next_idx)\n",
        "\n",
        "        # <EOS> 나오면 중단\n",
        "        if next_idx == eos_idx:\n",
        "            break\n",
        "\n",
        "        # 다음 디코더 입력으로 바로 넣음\n",
        "        dec_input = torch.tensor([[next_idx]], dtype=torch.long, device=device)\n",
        "\n",
        "    # 생성된 인덱스 리스트 → 토큰 리스트로 변환\n",
        "    # (예: [D=5, TYPE=Corridor, TURN_RIGHT, D=5, TYPE=Room, END, <EOS>])\n",
        "    generated_tokens = [ idx2token[idx] for idx in generated_idxs ]\n",
        "\n",
        "    # <EOS> 이후 토큰(있다면) 제거. (보통 EOS 직전까지가 우리가 원하는 “END” 토큰까지의 시퀀스)\n",
        "    if '<EOS>' in generated_tokens:\n",
        "        eos_pos = generated_tokens.index('<EOS>')\n",
        "        generated_tokens = generated_tokens[:eos_pos]\n",
        "\n",
        "    return generated_tokens\n",
        "\n",
        "#================================================================================\n",
        "# 6) 테스트: 실제로 방 ID 조합을 넣어보고 결과 확인\n",
        "#================================================================================\n",
        "\n",
        "# 예시 1:\n",
        "result1 = infer_sequence('27117', '25112')\n",
        "print(\"Input:  27117  →  25112\")\n",
        "print(\"Output: \", result1)\n",
        "# 예시 출력 형태: ['D=5', 'TYPE=Corridor', 'TURN_RIGHT', 'D=5', 'TYPE=Room', 'END']\n",
        "\n",
        "# 예시 2:\n",
        "result2 = infer_sequence('27113', '25312')\n",
        "print(\"\\nInput:  27113  →  25312\")\n",
        "print(\"Output: \", result2)\n",
        "# 예시 출력 형태: ['D=5', 'TYPE=Corridor', 'TURN_RIGHT', 'D=10', 'TYPE=Corridor', 'TURN_LEFT', 'D=5', 'TYPE=Room', 'END']\n"
      ],
      "metadata": {
        "colab": {
          "base_uri": "https://localhost:8080/"
        },
        "id": "y3qVJGWdRmJH",
        "outputId": "c07bf06e-15bf-4e55-e867-fe183b32849c"
      },
      "execution_count": 70,
      "outputs": [
        {
          "output_type": "stream",
          "name": "stdout",
          "text": [
            "Vocab size: 288\n",
            "Using device for inference: cuda\n",
            "Model loaded from maze_seq2seq_model.pt\n",
            "Input:  27117  →  25112\n",
            "Output:  ['D=5', 'TYPE=Corridor', 'TURN_LEFT', 'D=70', 'TYPE=Corridor', 'TURN_RIGHT', 'D=85', 'TYPE=Corridor', 'TURN_RIGHT', 'D=50', 'TYPE=Corridor', 'TURN_RIGHT', 'D=5', 'TYPE=Room', 'END']\n",
            "\n",
            "Input:  27113  →  25312\n",
            "Output:  ['D=5', 'TYPE=Corridor', 'TURN_LEFT', 'D=55', 'TYPE=Corridor', 'TURN_RIGHT', 'D=85', 'TYPE=Corridor', 'TURN_RIGHT', 'D=15', 'TYPE=Corridor', 'TURN_RIGHT', 'D=5', 'TYPE=Elevator', 'D=0', 'TYPE=Elevator', 'D=0', 'TYPE=Elevator', 'D=5', 'TYPE=Corridor', 'TURN_RIGHT', 'D=55', 'TYPE=Corridor', 'TURN_RIGHT', 'D=5', 'TYPE=Room', 'END']\n"
          ]
        }
      ]
    }
  ]
}